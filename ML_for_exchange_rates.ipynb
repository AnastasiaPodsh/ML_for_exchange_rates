{
 "cells": [
  {
   "cell_type": "markdown",
   "id": "28bc3850",
   "metadata": {},
   "source": [
    "## Тема: «Модели машинного обучения для анализа датасетов валютных курсов с высокой частотой дискретизации»"
   ]
  },
  {
   "cell_type": "markdown",
   "id": "3c535a5b",
   "metadata": {},
   "source": [
    "## Выполнила: Подшивалова Анастасия"
   ]
  },
  {
   "cell_type": "markdown",
   "id": "4f55e800",
   "metadata": {},
   "source": [
    "**Цель работы: исследование и реализация различных методов машинного обучения, применимых для анализа валютных курсов с высокой частотой дискретизации**"
   ]
  },
  {
   "cell_type": "markdown",
   "id": "0a7cddcb",
   "metadata": {},
   "source": [
    "**Задачи:**\n",
    "1. Сбор всех необходимых данных о валютных курсах;\n",
    "2. Описание и подготовка данных для дальнейшего анализа;\n",
    "3. Построение моделей машинного обучения;\n",
    "4. Оценка показателей качества полученных моделей и их сравнение;\n",
    "5. Анализ результатов."
   ]
  },
  {
   "cell_type": "markdown",
   "id": "4b2b7c1f",
   "metadata": {},
   "source": [
    "**Ожидаемый результат:**\\\n",
    "Модель машинного обучения, наиболее эффективная в анализе и прогнозировании валютных курсов."
   ]
  },
  {
   "cell_type": "markdown",
   "id": "4e89ca2e",
   "metadata": {},
   "source": [
    "**Описание датасета:**\\\n",
    "В датасете представлены данные о валютных парах, цена за 1 евро в долларах США, с частотой свечей 10 минут. "
   ]
  },
  {
   "cell_type": "markdown",
   "id": "9e9fb0af",
   "metadata": {},
   "source": [
    "## Этап сбора данных"
   ]
  },
  {
   "cell_type": "code",
   "execution_count": 29,
   "id": "9a521d4d",
   "metadata": {},
   "outputs": [],
   "source": [
    "# импортируем все нужные библиотеки\n",
    "import gzip\n",
    "from sklearn.linear_model import LinearRegression, LogisticRegression\n",
    "from sklearn.metrics import precision_score, recall_score, f1_score\n",
    "from sklearn.model_selection import train_test_split, cross_val_score\n",
    "from sklearn.preprocessing import StandardScaler, MinMaxScaler\n",
    "from sklearn.metrics import roc_curve, roc_auc_score\n",
    "from sklearn.ensemble import RandomForestClassifier\n",
    "from sklearn.ensemble import GradientBoostingClassifier\n",
    "from sklearn.tree import DecisionTreeClassifier\n",
    "from sklearn.naive_bayes import GaussianNB\n",
    "from sklearn.neighbors import KNeighborsClassifier\n",
    "import matplotlib.pyplot as plt \n",
    "import numpy as np\n",
    "import pandas as pd\n",
    "import seaborn as sns\n",
    "import time\n",
    "from sklearn.svm import SVC"
   ]
  },
  {
   "cell_type": "code",
   "execution_count": 2,
   "id": "4852ed7c",
   "metadata": {},
   "outputs": [],
   "source": [
    "# См. https://github.com/Tim55667757/MT4ForexParser/blob/master/mt4forexparser/MT4ForexParser.py\n",
    "\n",
    "def read_hst_gz(filename: str) -> pd.DataFrame:\n",
    "    with gzip.open(filename) as f:\n",
    "        version = np.frombuffer(f.read(148)[:4], 'i4')\n",
    "        if version == 400:\n",
    "            dtype = [\n",
    "                ('unix', 'u4'), ('open', 'f8'),\n",
    "                ('high', 'f8'), ('low', 'f8'),\n",
    "                ('close', 'f8'), ('volume', 'u8')\n",
    "            ]\n",
    "        elif version == 401:\n",
    "            dtype = [\n",
    "                ('unix', 'u8'), ('open', 'f8'),\n",
    "                ('high', 'f8'), ('low', 'f8'),\n",
    "                ('close', 'f8'), ('volume', 'u8'),\n",
    "                ('s', 'i4'), ('r', 'i8')\n",
    "            ]\n",
    "        else:\n",
    "            raise NotImplementedError(f'unsupported format version: {version}')\n",
    "        d = pd.DataFrame(np.frombuffer(f.read(), dtype=dtype))\n",
    "        d['datetime'] = pd.to_datetime(d.unix, unit='s')\n",
    "    \n",
    "        if version == 401:\n",
    "            d.drop(columns=['s', 'r'], inplace=True)\n",
    "        return d"
   ]
  },
  {
   "cell_type": "code",
   "execution_count": 3,
   "id": "b849fac1",
   "metadata": {},
   "outputs": [
    {
     "data": {
      "text/html": [
       "<div>\n",
       "<style scoped>\n",
       "    .dataframe tbody tr th:only-of-type {\n",
       "        vertical-align: middle;\n",
       "    }\n",
       "\n",
       "    .dataframe tbody tr th {\n",
       "        vertical-align: top;\n",
       "    }\n",
       "\n",
       "    .dataframe thead th {\n",
       "        text-align: right;\n",
       "    }\n",
       "</style>\n",
       "<table border=\"1\" class=\"dataframe\">\n",
       "  <thead>\n",
       "    <tr style=\"text-align: right;\">\n",
       "      <th></th>\n",
       "      <th>unix</th>\n",
       "      <th>open</th>\n",
       "      <th>high</th>\n",
       "      <th>low</th>\n",
       "      <th>close</th>\n",
       "      <th>volume</th>\n",
       "      <th>datetime</th>\n",
       "    </tr>\n",
       "  </thead>\n",
       "  <tbody>\n",
       "    <tr>\n",
       "      <th>0</th>\n",
       "      <td>1609711200</td>\n",
       "      <td>1.22396</td>\n",
       "      <td>1.22420</td>\n",
       "      <td>1.22296</td>\n",
       "      <td>1.22322</td>\n",
       "      <td>365</td>\n",
       "      <td>2021-01-03 22:00:00</td>\n",
       "    </tr>\n",
       "    <tr>\n",
       "      <th>1</th>\n",
       "      <td>1609711850</td>\n",
       "      <td>1.22310</td>\n",
       "      <td>1.22365</td>\n",
       "      <td>1.22309</td>\n",
       "      <td>1.22356</td>\n",
       "      <td>288</td>\n",
       "      <td>2021-01-03 22:10:50</td>\n",
       "    </tr>\n",
       "    <tr>\n",
       "      <th>2</th>\n",
       "      <td>1609712401</td>\n",
       "      <td>1.22356</td>\n",
       "      <td>1.22387</td>\n",
       "      <td>1.22341</td>\n",
       "      <td>1.22370</td>\n",
       "      <td>850</td>\n",
       "      <td>2021-01-03 22:20:01</td>\n",
       "    </tr>\n",
       "    <tr>\n",
       "      <th>3</th>\n",
       "      <td>1609713000</td>\n",
       "      <td>1.22367</td>\n",
       "      <td>1.22400</td>\n",
       "      <td>1.22325</td>\n",
       "      <td>1.22354</td>\n",
       "      <td>1481</td>\n",
       "      <td>2021-01-03 22:30:00</td>\n",
       "    </tr>\n",
       "    <tr>\n",
       "      <th>4</th>\n",
       "      <td>1609713610</td>\n",
       "      <td>1.22353</td>\n",
       "      <td>1.22367</td>\n",
       "      <td>1.22336</td>\n",
       "      <td>1.22343</td>\n",
       "      <td>207</td>\n",
       "      <td>2021-01-03 22:40:10</td>\n",
       "    </tr>\n",
       "    <tr>\n",
       "      <th>...</th>\n",
       "      <td>...</td>\n",
       "      <td>...</td>\n",
       "      <td>...</td>\n",
       "      <td>...</td>\n",
       "      <td>...</td>\n",
       "      <td>...</td>\n",
       "      <td>...</td>\n",
       "    </tr>\n",
       "    <tr>\n",
       "      <th>36840</th>\n",
       "      <td>1640905801</td>\n",
       "      <td>1.13223</td>\n",
       "      <td>1.13256</td>\n",
       "      <td>1.13218</td>\n",
       "      <td>1.13250</td>\n",
       "      <td>323</td>\n",
       "      <td>2021-12-30 23:10:01</td>\n",
       "    </tr>\n",
       "    <tr>\n",
       "      <th>36841</th>\n",
       "      <td>1640906402</td>\n",
       "      <td>1.13252</td>\n",
       "      <td>1.13257</td>\n",
       "      <td>1.13245</td>\n",
       "      <td>1.13245</td>\n",
       "      <td>186</td>\n",
       "      <td>2021-12-30 23:20:02</td>\n",
       "    </tr>\n",
       "    <tr>\n",
       "      <th>36842</th>\n",
       "      <td>1640907000</td>\n",
       "      <td>1.13245</td>\n",
       "      <td>1.13248</td>\n",
       "      <td>1.13189</td>\n",
       "      <td>1.13204</td>\n",
       "      <td>268</td>\n",
       "      <td>2021-12-30 23:30:00</td>\n",
       "    </tr>\n",
       "    <tr>\n",
       "      <th>36843</th>\n",
       "      <td>1640907613</td>\n",
       "      <td>1.13204</td>\n",
       "      <td>1.13226</td>\n",
       "      <td>1.13194</td>\n",
       "      <td>1.13226</td>\n",
       "      <td>165</td>\n",
       "      <td>2021-12-30 23:40:13</td>\n",
       "    </tr>\n",
       "    <tr>\n",
       "      <th>36844</th>\n",
       "      <td>1640908205</td>\n",
       "      <td>1.13228</td>\n",
       "      <td>1.13239</td>\n",
       "      <td>1.13217</td>\n",
       "      <td>1.13222</td>\n",
       "      <td>343</td>\n",
       "      <td>2021-12-30 23:50:05</td>\n",
       "    </tr>\n",
       "  </tbody>\n",
       "</table>\n",
       "<p>36845 rows × 7 columns</p>\n",
       "</div>"
      ],
      "text/plain": [
       "             unix     open     high      low    close  volume  \\\n",
       "0      1609711200  1.22396  1.22420  1.22296  1.22322     365   \n",
       "1      1609711850  1.22310  1.22365  1.22309  1.22356     288   \n",
       "2      1609712401  1.22356  1.22387  1.22341  1.22370     850   \n",
       "3      1609713000  1.22367  1.22400  1.22325  1.22354    1481   \n",
       "4      1609713610  1.22353  1.22367  1.22336  1.22343     207   \n",
       "...           ...      ...      ...      ...      ...     ...   \n",
       "36840  1640905801  1.13223  1.13256  1.13218  1.13250     323   \n",
       "36841  1640906402  1.13252  1.13257  1.13245  1.13245     186   \n",
       "36842  1640907000  1.13245  1.13248  1.13189  1.13204     268   \n",
       "36843  1640907613  1.13204  1.13226  1.13194  1.13226     165   \n",
       "36844  1640908205  1.13228  1.13239  1.13217  1.13222     343   \n",
       "\n",
       "                 datetime  \n",
       "0     2021-01-03 22:00:00  \n",
       "1     2021-01-03 22:10:50  \n",
       "2     2021-01-03 22:20:01  \n",
       "3     2021-01-03 22:30:00  \n",
       "4     2021-01-03 22:40:10  \n",
       "...                   ...  \n",
       "36840 2021-12-30 23:10:01  \n",
       "36841 2021-12-30 23:20:02  \n",
       "36842 2021-12-30 23:30:00  \n",
       "36843 2021-12-30 23:40:13  \n",
       "36844 2021-12-30 23:50:05  \n",
       "\n",
       "[36845 rows x 7 columns]"
      ]
     },
     "execution_count": 3,
     "metadata": {},
     "output_type": "execute_result"
    }
   ],
   "source": [
    "# ссылка для скачивания датасета:\n",
    "# https://github.com/FX-Data/FX-Data-EURUSD-DS/releases/download/2021/EURUSD10.hst.gz\n",
    "\n",
    "d = read_hst_gz(\"EURUSD10.hst.gz\")\n",
    "d"
   ]
  },
  {
   "cell_type": "markdown",
   "id": "1dbe2028",
   "metadata": {},
   "source": [
    "Мы взяли датасет с названием EURUSD10, это значит, что наш период равен 10 минутам. Цифра в названии обозначает именно это.\n",
    "\n",
    "Далее, в столбце unix находится значение о количестве секунд, прошедших с 1970-01-01,\n",
    "таким образом в файле хранятся дата и время.\n",
    "\n",
    "Столбцы нашего датафрейма open, close представляют собой цены на начало и конец периода. (10 минут в нашем случае)\n",
    "high, low — максимальная и минимальная цены за период.\n",
    "\n",
    "Дата/время указывают на начало периода.\n",
    "\n",
    "volume — объем сделок за период."
   ]
  },
  {
   "cell_type": "code",
   "execution_count": 4,
   "id": "799f0f8c",
   "metadata": {},
   "outputs": [
    {
     "data": {
      "text/plain": [
       "255.86805555555554"
      ]
     },
     "execution_count": 4,
     "metadata": {},
     "output_type": "execute_result"
    }
   ],
   "source": [
    "d.shape[0] / 6 / 24 # здесь мы посчитали примерное количество дней, за которое имеем данные."
   ]
  },
  {
   "cell_type": "markdown",
   "id": "bc7c2ba7",
   "metadata": {},
   "source": [
    "## Этап описания и подготовки данных"
   ]
  },
  {
   "cell_type": "code",
   "execution_count": 5,
   "id": "2d6e2ac0",
   "metadata": {},
   "outputs": [
    {
     "data": {
      "text/plain": [
       "unix        0\n",
       "open        0\n",
       "high        0\n",
       "low         0\n",
       "close       0\n",
       "volume      0\n",
       "datetime    0\n",
       "dtype: int64"
      ]
     },
     "execution_count": 5,
     "metadata": {},
     "output_type": "execute_result"
    }
   ],
   "source": [
    "d.isnull().sum()"
   ]
  },
  {
   "cell_type": "markdown",
   "id": "67885d2c",
   "metadata": {},
   "source": [
    "Здесь мы проверяем наши данные на наличие пропусков и видим, что пропусков нет"
   ]
  },
  {
   "cell_type": "code",
   "execution_count": 6,
   "id": "c31244da",
   "metadata": {},
   "outputs": [
    {
     "data": {
      "text/html": [
       "<div>\n",
       "<style scoped>\n",
       "    .dataframe tbody tr th:only-of-type {\n",
       "        vertical-align: middle;\n",
       "    }\n",
       "\n",
       "    .dataframe tbody tr th {\n",
       "        vertical-align: top;\n",
       "    }\n",
       "\n",
       "    .dataframe thead th {\n",
       "        text-align: right;\n",
       "    }\n",
       "</style>\n",
       "<table border=\"1\" class=\"dataframe\">\n",
       "  <thead>\n",
       "    <tr style=\"text-align: right;\">\n",
       "      <th></th>\n",
       "      <th>unix</th>\n",
       "      <th>open</th>\n",
       "      <th>high</th>\n",
       "      <th>low</th>\n",
       "      <th>close</th>\n",
       "      <th>volume</th>\n",
       "    </tr>\n",
       "  </thead>\n",
       "  <tbody>\n",
       "    <tr>\n",
       "      <th>count</th>\n",
       "      <td>3.684500e+04</td>\n",
       "      <td>36845.000000</td>\n",
       "      <td>36845.000000</td>\n",
       "      <td>36845.00000</td>\n",
       "      <td>36845.000000</td>\n",
       "      <td>36845.000000</td>\n",
       "    </tr>\n",
       "    <tr>\n",
       "      <th>mean</th>\n",
       "      <td>1.625314e+09</td>\n",
       "      <td>1.182850</td>\n",
       "      <td>1.183077</td>\n",
       "      <td>1.18262</td>\n",
       "      <td>1.182847</td>\n",
       "      <td>1396.784801</td>\n",
       "    </tr>\n",
       "    <tr>\n",
       "      <th>std</th>\n",
       "      <td>9.075352e+06</td>\n",
       "      <td>0.028168</td>\n",
       "      <td>0.028177</td>\n",
       "      <td>0.02816</td>\n",
       "      <td>0.028168</td>\n",
       "      <td>1340.156202</td>\n",
       "    </tr>\n",
       "    <tr>\n",
       "      <th>min</th>\n",
       "      <td>1.609711e+09</td>\n",
       "      <td>1.118750</td>\n",
       "      <td>1.119260</td>\n",
       "      <td>1.11859</td>\n",
       "      <td>1.118770</td>\n",
       "      <td>4.000000</td>\n",
       "    </tr>\n",
       "    <tr>\n",
       "      <th>25%</th>\n",
       "      <td>1.617574e+09</td>\n",
       "      <td>1.164620</td>\n",
       "      <td>1.164830</td>\n",
       "      <td>1.16440</td>\n",
       "      <td>1.164600</td>\n",
       "      <td>523.000000</td>\n",
       "    </tr>\n",
       "    <tr>\n",
       "      <th>50%</th>\n",
       "      <td>1.625434e+09</td>\n",
       "      <td>1.185300</td>\n",
       "      <td>1.185530</td>\n",
       "      <td>1.18506</td>\n",
       "      <td>1.185300</td>\n",
       "      <td>1029.000000</td>\n",
       "    </tr>\n",
       "    <tr>\n",
       "      <th>75%</th>\n",
       "      <td>1.633121e+09</td>\n",
       "      <td>1.207710</td>\n",
       "      <td>1.207930</td>\n",
       "      <td>1.20750</td>\n",
       "      <td>1.207710</td>\n",
       "      <td>1828.000000</td>\n",
       "    </tr>\n",
       "    <tr>\n",
       "      <th>max</th>\n",
       "      <td>1.640908e+09</td>\n",
       "      <td>1.234670</td>\n",
       "      <td>1.234940</td>\n",
       "      <td>1.23440</td>\n",
       "      <td>1.234680</td>\n",
       "      <td>22141.000000</td>\n",
       "    </tr>\n",
       "  </tbody>\n",
       "</table>\n",
       "</div>"
      ],
      "text/plain": [
       "               unix          open          high          low         close  \\\n",
       "count  3.684500e+04  36845.000000  36845.000000  36845.00000  36845.000000   \n",
       "mean   1.625314e+09      1.182850      1.183077      1.18262      1.182847   \n",
       "std    9.075352e+06      0.028168      0.028177      0.02816      0.028168   \n",
       "min    1.609711e+09      1.118750      1.119260      1.11859      1.118770   \n",
       "25%    1.617574e+09      1.164620      1.164830      1.16440      1.164600   \n",
       "50%    1.625434e+09      1.185300      1.185530      1.18506      1.185300   \n",
       "75%    1.633121e+09      1.207710      1.207930      1.20750      1.207710   \n",
       "max    1.640908e+09      1.234670      1.234940      1.23440      1.234680   \n",
       "\n",
       "             volume  \n",
       "count  36845.000000  \n",
       "mean    1396.784801  \n",
       "std     1340.156202  \n",
       "min        4.000000  \n",
       "25%      523.000000  \n",
       "50%     1029.000000  \n",
       "75%     1828.000000  \n",
       "max    22141.000000  "
      ]
     },
     "execution_count": 6,
     "metadata": {},
     "output_type": "execute_result"
    }
   ],
   "source": [
    "d.describe() # проводим описательную статистику данных"
   ]
  },
  {
   "cell_type": "markdown",
   "id": "cc32c470",
   "metadata": {},
   "source": [
    "В данном случае, из описательной статистики можно заметить, что максимальные и минимальные значения параметров не сильно выбиваются из общей картины, а также медианные значения близки к средним."
   ]
  },
  {
   "cell_type": "markdown",
   "id": "6b05f1ed",
   "metadata": {},
   "source": [
    "Для оценки выбросов используем метод стандартного отклонения.\n",
    "Выбросами считаются значения, выходящие за пределы интервала [mean - k*std, mean + k*std], где mean и std - среднее значение и стандартное отклонение соответственно, а k - коэффициент равный 3."
   ]
  },
  {
   "cell_type": "code",
   "execution_count": 7,
   "id": "d6237103",
   "metadata": {},
   "outputs": [
    {
     "name": "stdout",
     "output_type": "stream",
     "text": [
      "Выбросы для параметра open:\n"
     ]
    },
    {
     "data": {
      "text/html": [
       "<div>\n",
       "<style scoped>\n",
       "    .dataframe tbody tr th:only-of-type {\n",
       "        vertical-align: middle;\n",
       "    }\n",
       "\n",
       "    .dataframe tbody tr th {\n",
       "        vertical-align: top;\n",
       "    }\n",
       "\n",
       "    .dataframe thead th {\n",
       "        text-align: right;\n",
       "    }\n",
       "</style>\n",
       "<table border=\"1\" class=\"dataframe\">\n",
       "  <thead>\n",
       "    <tr style=\"text-align: right;\">\n",
       "      <th></th>\n",
       "      <th>unix</th>\n",
       "      <th>open</th>\n",
       "      <th>high</th>\n",
       "      <th>low</th>\n",
       "      <th>close</th>\n",
       "      <th>volume</th>\n",
       "      <th>datetime</th>\n",
       "    </tr>\n",
       "  </thead>\n",
       "  <tbody>\n",
       "  </tbody>\n",
       "</table>\n",
       "</div>"
      ],
      "text/plain": [
       "Empty DataFrame\n",
       "Columns: [unix, open, high, low, close, volume, datetime]\n",
       "Index: []"
      ]
     },
     "metadata": {},
     "output_type": "display_data"
    },
    {
     "name": "stdout",
     "output_type": "stream",
     "text": [
      "Выбросы для параметра high:\n"
     ]
    },
    {
     "data": {
      "text/html": [
       "<div>\n",
       "<style scoped>\n",
       "    .dataframe tbody tr th:only-of-type {\n",
       "        vertical-align: middle;\n",
       "    }\n",
       "\n",
       "    .dataframe tbody tr th {\n",
       "        vertical-align: top;\n",
       "    }\n",
       "\n",
       "    .dataframe thead th {\n",
       "        text-align: right;\n",
       "    }\n",
       "</style>\n",
       "<table border=\"1\" class=\"dataframe\">\n",
       "  <thead>\n",
       "    <tr style=\"text-align: right;\">\n",
       "      <th></th>\n",
       "      <th>unix</th>\n",
       "      <th>open</th>\n",
       "      <th>high</th>\n",
       "      <th>low</th>\n",
       "      <th>close</th>\n",
       "      <th>volume</th>\n",
       "      <th>datetime</th>\n",
       "    </tr>\n",
       "  </thead>\n",
       "  <tbody>\n",
       "  </tbody>\n",
       "</table>\n",
       "</div>"
      ],
      "text/plain": [
       "Empty DataFrame\n",
       "Columns: [unix, open, high, low, close, volume, datetime]\n",
       "Index: []"
      ]
     },
     "metadata": {},
     "output_type": "display_data"
    },
    {
     "name": "stdout",
     "output_type": "stream",
     "text": [
      "Выбросы для параметра low:\n"
     ]
    },
    {
     "data": {
      "text/html": [
       "<div>\n",
       "<style scoped>\n",
       "    .dataframe tbody tr th:only-of-type {\n",
       "        vertical-align: middle;\n",
       "    }\n",
       "\n",
       "    .dataframe tbody tr th {\n",
       "        vertical-align: top;\n",
       "    }\n",
       "\n",
       "    .dataframe thead th {\n",
       "        text-align: right;\n",
       "    }\n",
       "</style>\n",
       "<table border=\"1\" class=\"dataframe\">\n",
       "  <thead>\n",
       "    <tr style=\"text-align: right;\">\n",
       "      <th></th>\n",
       "      <th>unix</th>\n",
       "      <th>open</th>\n",
       "      <th>high</th>\n",
       "      <th>low</th>\n",
       "      <th>close</th>\n",
       "      <th>volume</th>\n",
       "      <th>datetime</th>\n",
       "    </tr>\n",
       "  </thead>\n",
       "  <tbody>\n",
       "  </tbody>\n",
       "</table>\n",
       "</div>"
      ],
      "text/plain": [
       "Empty DataFrame\n",
       "Columns: [unix, open, high, low, close, volume, datetime]\n",
       "Index: []"
      ]
     },
     "metadata": {},
     "output_type": "display_data"
    },
    {
     "name": "stdout",
     "output_type": "stream",
     "text": [
      "Выбросы для параметра close:\n"
     ]
    },
    {
     "data": {
      "text/html": [
       "<div>\n",
       "<style scoped>\n",
       "    .dataframe tbody tr th:only-of-type {\n",
       "        vertical-align: middle;\n",
       "    }\n",
       "\n",
       "    .dataframe tbody tr th {\n",
       "        vertical-align: top;\n",
       "    }\n",
       "\n",
       "    .dataframe thead th {\n",
       "        text-align: right;\n",
       "    }\n",
       "</style>\n",
       "<table border=\"1\" class=\"dataframe\">\n",
       "  <thead>\n",
       "    <tr style=\"text-align: right;\">\n",
       "      <th></th>\n",
       "      <th>unix</th>\n",
       "      <th>open</th>\n",
       "      <th>high</th>\n",
       "      <th>low</th>\n",
       "      <th>close</th>\n",
       "      <th>volume</th>\n",
       "      <th>datetime</th>\n",
       "    </tr>\n",
       "  </thead>\n",
       "  <tbody>\n",
       "  </tbody>\n",
       "</table>\n",
       "</div>"
      ],
      "text/plain": [
       "Empty DataFrame\n",
       "Columns: [unix, open, high, low, close, volume, datetime]\n",
       "Index: []"
      ]
     },
     "metadata": {},
     "output_type": "display_data"
    },
    {
     "name": "stdout",
     "output_type": "stream",
     "text": [
      "Выбросы для параметра volume:\n"
     ]
    },
    {
     "data": {
      "text/html": [
       "<div>\n",
       "<style scoped>\n",
       "    .dataframe tbody tr th:only-of-type {\n",
       "        vertical-align: middle;\n",
       "    }\n",
       "\n",
       "    .dataframe tbody tr th {\n",
       "        vertical-align: top;\n",
       "    }\n",
       "\n",
       "    .dataframe thead th {\n",
       "        text-align: right;\n",
       "    }\n",
       "</style>\n",
       "<table border=\"1\" class=\"dataframe\">\n",
       "  <thead>\n",
       "    <tr style=\"text-align: right;\">\n",
       "      <th></th>\n",
       "      <th>unix</th>\n",
       "      <th>open</th>\n",
       "      <th>high</th>\n",
       "      <th>low</th>\n",
       "      <th>close</th>\n",
       "      <th>volume</th>\n",
       "      <th>datetime</th>\n",
       "    </tr>\n",
       "  </thead>\n",
       "  <tbody>\n",
       "    <tr>\n",
       "      <th>62</th>\n",
       "      <td>1609748400</td>\n",
       "      <td>1.22707</td>\n",
       "      <td>1.22732</td>\n",
       "      <td>1.22662</td>\n",
       "      <td>1.22722</td>\n",
       "      <td>5706</td>\n",
       "      <td>2021-01-04 08:20:00</td>\n",
       "    </tr>\n",
       "    <tr>\n",
       "      <th>99</th>\n",
       "      <td>1609770600</td>\n",
       "      <td>1.23063</td>\n",
       "      <td>1.23079</td>\n",
       "      <td>1.22899</td>\n",
       "      <td>1.22933</td>\n",
       "      <td>9163</td>\n",
       "      <td>2021-01-04 14:30:00</td>\n",
       "    </tr>\n",
       "    <tr>\n",
       "      <th>100</th>\n",
       "      <td>1609771200</td>\n",
       "      <td>1.22932</td>\n",
       "      <td>1.23041</td>\n",
       "      <td>1.22928</td>\n",
       "      <td>1.22983</td>\n",
       "      <td>5947</td>\n",
       "      <td>2021-01-04 14:40:00</td>\n",
       "    </tr>\n",
       "    <tr>\n",
       "      <th>101</th>\n",
       "      <td>1609771800</td>\n",
       "      <td>1.22984</td>\n",
       "      <td>1.23009</td>\n",
       "      <td>1.22836</td>\n",
       "      <td>1.22892</td>\n",
       "      <td>9754</td>\n",
       "      <td>2021-01-04 14:50:00</td>\n",
       "    </tr>\n",
       "    <tr>\n",
       "      <th>102</th>\n",
       "      <td>1609772400</td>\n",
       "      <td>1.22892</td>\n",
       "      <td>1.22908</td>\n",
       "      <td>1.22741</td>\n",
       "      <td>1.22749</td>\n",
       "      <td>8435</td>\n",
       "      <td>2021-01-04 15:00:00</td>\n",
       "    </tr>\n",
       "    <tr>\n",
       "      <th>...</th>\n",
       "      <td>...</td>\n",
       "      <td>...</td>\n",
       "      <td>...</td>\n",
       "      <td>...</td>\n",
       "      <td>...</td>\n",
       "      <td>...</td>\n",
       "      <td>...</td>\n",
       "    </tr>\n",
       "    <tr>\n",
       "      <th>36248</th>\n",
       "      <td>1640377800</td>\n",
       "      <td>1.13147</td>\n",
       "      <td>1.13156</td>\n",
       "      <td>1.13050</td>\n",
       "      <td>1.13121</td>\n",
       "      <td>15133</td>\n",
       "      <td>2021-12-24 20:30:00</td>\n",
       "    </tr>\n",
       "    <tr>\n",
       "      <th>36249</th>\n",
       "      <td>1640378400</td>\n",
       "      <td>1.13125</td>\n",
       "      <td>1.13133</td>\n",
       "      <td>1.13050</td>\n",
       "      <td>1.13075</td>\n",
       "      <td>6198</td>\n",
       "      <td>2021-12-24 20:40:00</td>\n",
       "    </tr>\n",
       "    <tr>\n",
       "      <th>36250</th>\n",
       "      <td>1640379001</td>\n",
       "      <td>1.13078</td>\n",
       "      <td>1.13206</td>\n",
       "      <td>1.13057</td>\n",
       "      <td>1.13138</td>\n",
       "      <td>7507</td>\n",
       "      <td>2021-12-24 20:50:01</td>\n",
       "    </tr>\n",
       "    <tr>\n",
       "      <th>36254</th>\n",
       "      <td>1640381400</td>\n",
       "      <td>1.13156</td>\n",
       "      <td>1.13263</td>\n",
       "      <td>1.13151</td>\n",
       "      <td>1.13207</td>\n",
       "      <td>5670</td>\n",
       "      <td>2021-12-24 21:30:00</td>\n",
       "    </tr>\n",
       "    <tr>\n",
       "      <th>36255</th>\n",
       "      <td>1640382000</td>\n",
       "      <td>1.13207</td>\n",
       "      <td>1.13234</td>\n",
       "      <td>1.13189</td>\n",
       "      <td>1.13206</td>\n",
       "      <td>8068</td>\n",
       "      <td>2021-12-24 21:40:00</td>\n",
       "    </tr>\n",
       "  </tbody>\n",
       "</table>\n",
       "<p>657 rows × 7 columns</p>\n",
       "</div>"
      ],
      "text/plain": [
       "             unix     open     high      low    close  volume  \\\n",
       "62     1609748400  1.22707  1.22732  1.22662  1.22722    5706   \n",
       "99     1609770600  1.23063  1.23079  1.22899  1.22933    9163   \n",
       "100    1609771200  1.22932  1.23041  1.22928  1.22983    5947   \n",
       "101    1609771800  1.22984  1.23009  1.22836  1.22892    9754   \n",
       "102    1609772400  1.22892  1.22908  1.22741  1.22749    8435   \n",
       "...           ...      ...      ...      ...      ...     ...   \n",
       "36248  1640377800  1.13147  1.13156  1.13050  1.13121   15133   \n",
       "36249  1640378400  1.13125  1.13133  1.13050  1.13075    6198   \n",
       "36250  1640379001  1.13078  1.13206  1.13057  1.13138    7507   \n",
       "36254  1640381400  1.13156  1.13263  1.13151  1.13207    5670   \n",
       "36255  1640382000  1.13207  1.13234  1.13189  1.13206    8068   \n",
       "\n",
       "                 datetime  \n",
       "62    2021-01-04 08:20:00  \n",
       "99    2021-01-04 14:30:00  \n",
       "100   2021-01-04 14:40:00  \n",
       "101   2021-01-04 14:50:00  \n",
       "102   2021-01-04 15:00:00  \n",
       "...                   ...  \n",
       "36248 2021-12-24 20:30:00  \n",
       "36249 2021-12-24 20:40:00  \n",
       "36250 2021-12-24 20:50:01  \n",
       "36254 2021-12-24 21:30:00  \n",
       "36255 2021-12-24 21:40:00  \n",
       "\n",
       "[657 rows x 7 columns]"
      ]
     },
     "metadata": {},
     "output_type": "display_data"
    }
   ],
   "source": [
    "# Определяем параметры для анализа\n",
    "params = ['open', 'high', 'low', 'close', 'volume']\n",
    "\n",
    "for param in params:\n",
    "    mean = d[param].mean()\n",
    "    std = d[param].std()\n",
    "    \n",
    "    # Вычисляем границы интервала\n",
    "    upper_bound = mean + 3 * std\n",
    "    lower_bound = mean - 3 * std\n",
    "    \n",
    "    # Выбираем значения, которые лежат за пределами интервала\n",
    "    outliers = d[(d[param] > upper_bound) | (d[param] < lower_bound)]\n",
    "    \n",
    "    # Выводим результаты анализа для данного параметра\n",
    "    print(f\"Выбросы для параметра {param}:\")\n",
    "\n",
    "    display(outliers)"
   ]
  },
  {
   "cell_type": "markdown",
   "id": "33e8d1ab",
   "metadata": {},
   "source": [
    "Для параметра volume были выявлены некоторые выбросы. \\\n",
    "Может быть, это связано с некоторыми важными событиями на рынке или новостями, которые повлияли на объем торгов. "
   ]
  },
  {
   "cell_type": "markdown",
   "id": "ddae2467",
   "metadata": {},
   "source": [
    "### Визуализация распределения признаков"
   ]
  },
  {
   "cell_type": "code",
   "execution_count": 8,
   "id": "fbc70476",
   "metadata": {},
   "outputs": [
    {
     "data": {
      "image/png": "[encoded data removed]",
      "text/plain": [
       "<Figure size 1500x1000 with 6 Axes>"
      ]
     },
     "metadata": {},
     "output_type": "display_data"
    }
   ],
   "source": [
    "fig, axes = plt.subplots(nrows=2, ncols=3, figsize=(15,10))\n",
    "\n",
    "# Строим гистограмму для столбца \"open\"\n",
    "axes[0,0].hist(d[\"open\"], bins=50, color = 'blue', edgecolor = 'black')\n",
    "axes[0,0].set_title(\"Distribution of Open Prices\")\n",
    "axes[0,0].set_xlabel(\"Open Price\")\n",
    "axes[0,0].set_ylabel(\"Frequency\")\n",
    "\n",
    "# Строим ящик с усами для столбца \"high\"\n",
    "axes[0,1].boxplot(d[\"high\"])\n",
    "axes[0,1].set_title(\"Distribution of High Prices\")\n",
    "axes[0,1].set_ylabel(\"High Price\")\n",
    "\n",
    "# Строим график плотности распределения для столбца \"low\"\n",
    "d[\"low\"].plot(kind=\"kde\", ax=axes[0,2], color = 'blue')\n",
    "axes[0,2].set_title(\"Distribution of Low Prices\")\n",
    "axes[0,2].set_xlabel(\"Low Price\")\n",
    "\n",
    "# Строим диаграмму рассеяния, которая отображает зависимость столбца \"volume\" от значений столбца\"close\" \n",
    "axes[1,0].scatter(d[\"volume\"], d[\"close\"], color = 'blue')\n",
    "axes[1,0].set_title(\"Volume vs. Close Price\")\n",
    "axes[1,0].set_xlabel(\"Volume\")\n",
    "axes[1,0].set_ylabel(\"Close Price\")\n",
    "\n",
    "#Строим гистограмму для \"unix\"\n",
    "axes[1,1].hist(d[\"unix\"], bins=50, color = 'blue')\n",
    "axes[1,1].set_title(\"Distribution of Unix Timestamps\")\n",
    "axes[1,1].set_xlabel(\"Unix Timestamp\")\n",
    "axes[1,1].set_ylabel(\"Frequency\")\n",
    "\n",
    "# Строим ящик с усами для \"close\" \n",
    "axes[1,2].boxplot(d[\"close\"])\n",
    "axes[1,2].set_title(\"Distribution of Close Prices\")\n",
    "axes[1,2].set_ylabel(\"Close Price\")\n",
    "\n",
    "plt.tight_layout()\n",
    "plt.show()"
   ]
  },
  {
   "cell_type": "code",
   "execution_count": 7,
   "id": "ee45da03",
   "metadata": {},
   "outputs": [
    {
     "name": "stdout",
     "output_type": "stream",
     "text": [
      "Корреляция каждого признака с целевой переменной:\n",
      "unix     -0.868579\n",
      "open      0.999924\n",
      "high      0.999960\n",
      "low       0.999961\n",
      "close     1.000000\n",
      "volume    0.175377\n",
      "dtype: float64\n"
     ]
    }
   ],
   "source": [
    "target_col = 'close'\n",
    "corr_matrix = d.corrwith(d[target_col])\n",
    "\n",
    "print(\"Корреляция каждого признака с целевой переменной:\")\n",
    "print(corr_matrix)"
   ]
  },
  {
   "cell_type": "markdown",
   "id": "656305cc",
   "metadata": {},
   "source": [
    "Из полученных значений видно, что целевая переменная \"close\" имеет очень высокую положительную корреляцию со столбцами \"open\", \"high\" и \"low\", что говорит о том, что эти признаки могут быть хорошими предикторами целевой переменной в модели машинного обучения."
   ]
  },
  {
   "cell_type": "markdown",
   "id": "6e42730f",
   "metadata": {},
   "source": [
    "Обратная корреляция между \"unix\" и \"close\" может указывать на то, что цены на активы в определенное время дня или в определенные дни недели имеют свои специфические значения, которые могут повлиять на изменение цены закрытия."
   ]
  },
  {
   "cell_type": "markdown",
   "id": "349a7cad",
   "metadata": {},
   "source": [
    "### Матрица корреляции"
   ]
  },
  {
   "cell_type": "code",
   "execution_count": 10,
   "id": "d4b399de",
   "metadata": {},
   "outputs": [
    {
     "data": {
      "text/plain": [
       "<AxesSubplot:>"
      ]
     },
     "execution_count": 10,
     "metadata": {},
     "output_type": "execute_result"
    },
    {
     "data": {
      "image/png": "[encoded data removed]",
      "text/plain": [
       "<Figure size 640x480 with 2 Axes>"
      ]
     },
     "metadata": {},
     "output_type": "display_data"
    }
   ],
   "source": [
    "corr_matrix = d.corr()\n",
    "sns.heatmap(corr_matrix, annot=True)"
   ]
  },
  {
   "cell_type": "markdown",
   "id": "dd1f2c9b",
   "metadata": {},
   "source": [
    "Столбцы `open`, `high`, `low` и `close` имеют очень сильную положительную корреляцию между собой, что весьма ожидаемо, поскольку эти столбцы представляют различные цены на актив в течение дня."
   ]
  },
  {
   "cell_type": "markdown",
   "id": "14b58fce",
   "metadata": {},
   "source": [
    "`Volume` имеет достаточно низкую корреляцию с остальными переменными, что может говорить о том, что объем торгов не является сильным фактором влияния на цену. Однако это не обязательно означает, что данный признак не может быть полезным в моделировании цены, и его следует рассмотреть в контексте других признаков и выбранной модели."
   ]
  },
  {
   "cell_type": "markdown",
   "id": "87836c98",
   "metadata": {},
   "source": [
    "## Построение моделей и оценка показателей качества полученных моделей"
   ]
  },
  {
   "cell_type": "markdown",
   "id": "89118eea",
   "metadata": {},
   "source": [
    "Прежде чем понять, какая же модель будет наиболее подходящей, нам нужно построить несколько моделей и сделать выводы.\\\n",
    "Для начала построим модель линейной регрессии и посмотрим, как она описывает наши данные."
   ]
  },
  {
   "cell_type": "markdown",
   "id": "2e2e920d",
   "metadata": {},
   "source": [
    "### Линейная регрессия"
   ]
  },
  {
   "cell_type": "code",
   "execution_count": 8,
   "id": "d980838c",
   "metadata": {},
   "outputs": [
    {
     "name": "stdout",
     "output_type": "stream",
     "text": [
      "Время обучения модели: 0.17\n",
      "Коэффициент детерминации: 0.9999697965291199\n",
      "Предсказанные значения:\n"
     ]
    },
    {
     "data": {
      "text/html": [
       "<div>\n",
       "<style scoped>\n",
       "    .dataframe tbody tr th:only-of-type {\n",
       "        vertical-align: middle;\n",
       "    }\n",
       "\n",
       "    .dataframe tbody tr th {\n",
       "        vertical-align: top;\n",
       "    }\n",
       "\n",
       "    .dataframe thead th {\n",
       "        text-align: right;\n",
       "    }\n",
       "</style>\n",
       "<table border=\"1\" class=\"dataframe\">\n",
       "  <thead>\n",
       "    <tr style=\"text-align: right;\">\n",
       "      <th></th>\n",
       "      <th>open</th>\n",
       "      <th>high</th>\n",
       "      <th>low</th>\n",
       "      <th>volume</th>\n",
       "      <th>close</th>\n",
       "      <th>close_pred</th>\n",
       "      <th>error</th>\n",
       "    </tr>\n",
       "  </thead>\n",
       "  <tbody>\n",
       "    <tr>\n",
       "      <th>2761</th>\n",
       "      <td>1.21061</td>\n",
       "      <td>1.21091</td>\n",
       "      <td>1.21055</td>\n",
       "      <td>1171</td>\n",
       "      <td>1.21077</td>\n",
       "      <td>1.21080</td>\n",
       "      <td>-0.00003</td>\n",
       "    </tr>\n",
       "    <tr>\n",
       "      <th>2532</th>\n",
       "      <td>1.21164</td>\n",
       "      <td>1.21196</td>\n",
       "      <td>1.21123</td>\n",
       "      <td>2810</td>\n",
       "      <td>1.21129</td>\n",
       "      <td>1.21157</td>\n",
       "      <td>-0.00028</td>\n",
       "    </tr>\n",
       "    <tr>\n",
       "      <th>35975</th>\n",
       "      <td>1.13232</td>\n",
       "      <td>1.13262</td>\n",
       "      <td>1.13222</td>\n",
       "      <td>728</td>\n",
       "      <td>1.13236</td>\n",
       "      <td>1.13248</td>\n",
       "      <td>-0.00012</td>\n",
       "    </tr>\n",
       "    <tr>\n",
       "      <th>12891</th>\n",
       "      <td>1.21616</td>\n",
       "      <td>1.21687</td>\n",
       "      <td>1.21605</td>\n",
       "      <td>1720</td>\n",
       "      <td>1.21651</td>\n",
       "      <td>1.21663</td>\n",
       "      <td>-0.00012</td>\n",
       "    </tr>\n",
       "    <tr>\n",
       "      <th>12848</th>\n",
       "      <td>1.21552</td>\n",
       "      <td>1.21562</td>\n",
       "      <td>1.21545</td>\n",
       "      <td>646</td>\n",
       "      <td>1.21561</td>\n",
       "      <td>1.21554</td>\n",
       "      <td>0.00007</td>\n",
       "    </tr>\n",
       "    <tr>\n",
       "      <th>...</th>\n",
       "      <td>...</td>\n",
       "      <td>...</td>\n",
       "      <td>...</td>\n",
       "      <td>...</td>\n",
       "      <td>...</td>\n",
       "      <td>...</td>\n",
       "      <td>...</td>\n",
       "    </tr>\n",
       "    <tr>\n",
       "      <th>28798</th>\n",
       "      <td>1.15976</td>\n",
       "      <td>1.15977</td>\n",
       "      <td>1.15964</td>\n",
       "      <td>154</td>\n",
       "      <td>1.15973</td>\n",
       "      <td>1.15967</td>\n",
       "      <td>0.00006</td>\n",
       "    </tr>\n",
       "    <tr>\n",
       "      <th>1148</th>\n",
       "      <td>1.21558</td>\n",
       "      <td>1.21575</td>\n",
       "      <td>1.21534</td>\n",
       "      <td>458</td>\n",
       "      <td>1.21558</td>\n",
       "      <td>1.21552</td>\n",
       "      <td>0.00006</td>\n",
       "    </tr>\n",
       "    <tr>\n",
       "      <th>3547</th>\n",
       "      <td>1.20292</td>\n",
       "      <td>1.20338</td>\n",
       "      <td>1.20230</td>\n",
       "      <td>3235</td>\n",
       "      <td>1.20244</td>\n",
       "      <td>1.20279</td>\n",
       "      <td>-0.00035</td>\n",
       "    </tr>\n",
       "    <tr>\n",
       "      <th>28938</th>\n",
       "      <td>1.15970</td>\n",
       "      <td>1.15982</td>\n",
       "      <td>1.15969</td>\n",
       "      <td>171</td>\n",
       "      <td>1.15982</td>\n",
       "      <td>1.15979</td>\n",
       "      <td>0.00003</td>\n",
       "    </tr>\n",
       "    <tr>\n",
       "      <th>4859</th>\n",
       "      <td>1.20837</td>\n",
       "      <td>1.20841</td>\n",
       "      <td>1.20813</td>\n",
       "      <td>1284</td>\n",
       "      <td>1.20818</td>\n",
       "      <td>1.20821</td>\n",
       "      <td>-0.00003</td>\n",
       "    </tr>\n",
       "  </tbody>\n",
       "</table>\n",
       "<p>7369 rows × 7 columns</p>\n",
       "</div>"
      ],
      "text/plain": [
       "          open     high      low  volume    close  close_pred    error\n",
       "2761   1.21061  1.21091  1.21055    1171  1.21077     1.21080 -0.00003\n",
       "2532   1.21164  1.21196  1.21123    2810  1.21129     1.21157 -0.00028\n",
       "35975  1.13232  1.13262  1.13222     728  1.13236     1.13248 -0.00012\n",
       "12891  1.21616  1.21687  1.21605    1720  1.21651     1.21663 -0.00012\n",
       "12848  1.21552  1.21562  1.21545     646  1.21561     1.21554  0.00007\n",
       "...        ...      ...      ...     ...      ...         ...      ...\n",
       "28798  1.15976  1.15977  1.15964     154  1.15973     1.15967  0.00006\n",
       "1148   1.21558  1.21575  1.21534     458  1.21558     1.21552  0.00006\n",
       "3547   1.20292  1.20338  1.20230    3235  1.20244     1.20279 -0.00035\n",
       "28938  1.15970  1.15982  1.15969     171  1.15982     1.15979  0.00003\n",
       "4859   1.20837  1.20841  1.20813    1284  1.20818     1.20821 -0.00003\n",
       "\n",
       "[7369 rows x 7 columns]"
      ]
     },
     "metadata": {},
     "output_type": "display_data"
    }
   ],
   "source": [
    "# Определяем целевую переменную и признаки\n",
    "target_col = \"close\"\n",
    "feature_cols = [\"open\", \"high\", \"low\", \"volume\"]\n",
    "\n",
    "# Разделяем данные на обучающую и тестовую выборки\n",
    "train_data, test_data, train_target, test_target = train_test_split(\n",
    "    d[feature_cols], d[target_col], test_size=0.2, random_state=42\n",
    ")\n",
    "\n",
    "# Стандартизируем данные\n",
    "scaler = StandardScaler()\n",
    "train_data_scaled = scaler.fit_transform(train_data)\n",
    "test_data_scaled = scaler.transform(test_data)\n",
    "\n",
    "# Измеряем время перед началом обучения модели\n",
    "start_time = time.time()\n",
    "\n",
    "# Обучаем модель линейной регрессии\n",
    "model = LinearRegression()\n",
    "model.fit(train_data_scaled, train_target)\n",
    "\n",
    "# Измеряем время после завершения обучения модели\n",
    "end_time = time.time()\n",
    "train_time = end_time - start_time\n",
    "print(f\"Время обучения модели: {train_time:.2f}\")\n",
    "\n",
    "# Оцениваем качество модели на тестовой выборке\n",
    "score = model.score(test_data_scaled, test_target)\n",
    "print(f\"Коэффициент детерминации: {score}\")\n",
    "\n",
    "# Предсказываем значения на тестовой выборке\n",
    "predictions = model.predict(test_data_scaled)\n",
    "\n",
    "print(\"Предсказанные значения:\")\n",
    "display(pd.DataFrame(test_data, columns=feature_cols).assign(**{\n",
    "    \"close\": np.array(test_target),\n",
    "    \"close_pred\": predictions,\n",
    "    \"error\": np.array(test_target) - predictions,\n",
    "}).round(5))"
   ]
  },
  {
   "cell_type": "markdown",
   "id": "bf602578",
   "metadata": {},
   "source": [
    "Коэффициент детерминации является мерой качества модели и означает, какую долю изменчивости зависимой переменной (в данном случае, курс валюты при закрытии) можно объяснить с помощью независимых переменных (в данном случае, времени и цены на открытие, максимум, минимум и закрытие).\n",
    "\n",
    "Значение коэффициента детерминации в нашем случае равно 0.99997, что говорит о том, что построенная модель очень хорошо объясняет изменчивость курса валюты. Это высокое значение означает, что 99,997% изменчивости курса валюты может быть объяснено с помощью независимых переменных, использованных в модели."
   ]
  },
  {
   "cell_type": "code",
   "execution_count": 9,
   "id": "b1ed5538",
   "metadata": {},
   "outputs": [
    {
     "data": {
      "text/plain": [
       "13.61399402269432"
      ]
     },
     "execution_count": 9,
     "metadata": {},
     "output_type": "execute_result"
    }
   ],
   "source": [
    "# 1360% годовых без риска.\n",
    "(d.high - d.low).sum() / d.open.max()"
   ]
  },
  {
   "cell_type": "markdown",
   "id": "e07e7543",
   "metadata": {},
   "source": [
    "Теперь построим диаграмму рассеяния фактических и предсказанных значений, чтобы визуально увидеть отклонения."
   ]
  },
  {
   "cell_type": "code",
   "execution_count": 21,
   "id": "9a0f7f30",
   "metadata": {},
   "outputs": [
    {
     "data": {
      "image/png": "[encoded data removed]",
      "text/plain": [
       "<Figure size 640x480 with 1 Axes>"
      ]
     },
     "metadata": {},
     "output_type": "display_data"
    }
   ],
   "source": [
    "fig, ax = plt.subplots()\n",
    "\n",
    "# Рисуем точки для истинных значений\n",
    "ax.scatter(test_target, predictions, color='blue', alpha=0.9, label='Истинные значения')\n",
    "\n",
    "# Рисуем точки для предсказанных значений\n",
    "ax.scatter(test_target, predictions, color='red', alpha=0.2, label='Предсказанные значения')\n",
    "\n",
    "ax.set_title(\"Диаграмма рассеяния: Истинные значения и Предсказанные значения\")\n",
    "ax.set_xlabel(\"Истинные значения\")\n",
    "ax.set_ylabel(\"Предсказанные значения\")\n",
    "\n",
    "ax.legend()\n",
    "plt.show()"
   ]
  },
  {
   "cell_type": "markdown",
   "id": "e6dbcff6",
   "metadata": {},
   "source": [
    "На этом графике и фактические и предсказанные значения почти что накладываются друг на друга. Это происходит потому, что метрики модели очень высокие, соответственно, точность предсказания тоже высокая."
   ]
  },
  {
   "cell_type": "markdown",
   "id": "884826ad",
   "metadata": {},
   "source": [
    "Глядя на показатели модели и диаграмму рассеяния фактических и предсказанных значений, кажется, что эта модель идеально описывает наши данные.\\\n",
    "Но это не совсем так. Сейчас мы рассмотрим недостатки этой модели."
   ]
  },
  {
   "cell_type": "markdown",
   "id": "cb3f92c3",
   "metadata": {},
   "source": [
    "Проблема модели заключается в том, что она предсказывает закрытие цены при известном \\\n",
    "максимуме и минимуме. Ее максимальная ошибка — это расстояние между \\\n",
    "`high` и `low`. \\\n",
    "\\\n",
    "На практике это не применимо."
   ]
  },
  {
   "cell_type": "markdown",
   "id": "3de97121",
   "metadata": {},
   "source": [
    "Предположим, что у нас есть информация о цене открытия, минимальной и максимальной ценах за день. Если мы будем ориентироваться только на эти данные, то сможем принимать только два решения: покупать или продавать, в зависимости от того, достигнут ли максимальный или минимальный уровень цены.\\\n",
    "\\\n",
    "Это нереалистичные предположения, а модель нам никак не пригодилась.\\\n",
    "В реальной жизни, цена на финансовых рынках зависит от множества факторов, которые не учитываются в данной модели."
   ]
  },
  {
   "cell_type": "markdown",
   "id": "08e18c00",
   "metadata": {},
   "source": [
    "### Метод опорных векторов (SVM)"
   ]
  },
  {
   "cell_type": "markdown",
   "id": "f6f1cc5c",
   "metadata": {},
   "source": [
    "Предсказать цену на практике будет достаточно сложно, и показатели часто будут нереалистичными. Попробуем предсказать направление движения цены.\\\n",
    "\\\n",
    "Такая модель будет принимать на вход исторические данные о цене и объеме торгов, а затем пытаться предсказать, будет ли цена повышаться или понижаться в следующем периоде времени. Такой подход более реалистичен с точки зрения торговли на финансовых рынках. Это будет полезно при принятии решения о том, когда покупать или продавать активы."
   ]
  },
  {
   "cell_type": "markdown",
   "id": "5dc3eaab",
   "metadata": {},
   "source": [
    "Для начала попробуем построить модель на основе метода опорных векторов.\\\n",
    "Она будет использовать SVM для классификации, то есть для прогнозирования двух возможных значений цены: рост или падение."
   ]
  },
  {
   "cell_type": "code",
   "execution_count": 23,
   "id": "918f61c8",
   "metadata": {},
   "outputs": [],
   "source": [
    "d2 = d.copy()\n",
    "\n",
    "# Определение направления движения цены\n",
    "d2['direction'] = (d2['close'] - d2['open']).apply(lambda x: 1 if x > 0 else 0)\n",
    "\n",
    "# Создание признаков\n",
    "d2['open_shifted'] = d2['open'].shift(1)\n",
    "d2['high_shifted'] = d2['high'].shift(1)\n",
    "d2['low_shifted'] = d2['low'].shift(1)\n",
    "d2['close_shifted'] = d2['close'].shift(1)\n",
    "d2['volume_shifted'] = d2['volume'].shift(1)\n",
    "d2['direction_shifted'] = d2['direction'].shift(1)"
   ]
  },
  {
   "cell_type": "markdown",
   "id": "e180f025",
   "metadata": {},
   "source": [
    "Входными данными для модели являются ценовые данные актива, такие как открытие, максимальная и минимальная цены, закрытие и объем торгов. Эти данные используются для создания признаков (open_shifted, high_shifted, low_shifted, close_shifted, volume_shifted), которые будут использоваться для обучения модели."
   ]
  },
  {
   "cell_type": "code",
   "execution_count": null,
   "id": "5cde8c13",
   "metadata": {},
   "outputs": [],
   "source": [
    "# Удаление строк с пропущенными значениями\n",
    "d2.dropna(inplace=True)"
   ]
  },
  {
   "cell_type": "code",
   "execution_count": 24,
   "id": "cf9c5a33",
   "metadata": {},
   "outputs": [
    {
     "name": "stdout",
     "output_type": "stream",
     "text": [
      "Время обучения модели: 67.02\n",
      "Accuracy: 0.5257825221639225\n",
      "Precision: 0.954248366013072\n",
      "Recall: 0.02713250325218361\n",
      "F1-score: 0.052764727141308275\n"
     ]
    }
   ],
   "source": [
    "# Определение X и y\n",
    "X = d2[['open_shifted', 'high_shifted', 'low_shifted', 'close_shifted', 'volume_shifted']]\n",
    "y = d2['direction_shifted']\n",
    "\n",
    "# Разделение данных на обучающую и тестовую выборки\n",
    "split_index = int(0.7 * len(d2))\n",
    "X_train = X.iloc[:split_index]\n",
    "y_train = y.iloc[:split_index]\n",
    "X_test = X.iloc[split_index:]\n",
    "y_test = y.iloc[split_index:]\n",
    "\n",
    "# Масштабирование данных\n",
    "scaler = MinMaxScaler()\n",
    "X_train_scaled = scaler.fit_transform(X_train)\n",
    "X_test_scaled = scaler.transform(X_test)\n",
    "\n",
    "# Измеряем время перед обучением модели\n",
    "start_time = time.time()\n",
    "\n",
    "# Обучение модели SVM\n",
    "svm = SVC(kernel='rbf', C=1.0, gamma='scale', random_state=42)\n",
    "svm.fit(X_train_scaled, y_train)\n",
    "\n",
    "# Измеряем время после завершения обучения модели\n",
    "end_time = time.time()\n",
    "train_time = end_time - start_time\n",
    "print(f\"Время обучения модели: {train_time:.2f}\")\n",
    "\n",
    "# Оценка точности модели\n",
    "accuracy = svm.score(X_test_scaled, y_test)\n",
    "print(f\"Accuracy: {accuracy}\")\n",
    "\n",
    "# Предсказание направления движения цены на тестовом наборе данных\n",
    "y_pred = svm.predict(X_test_scaled)\n",
    "\n",
    "# Расчет метрик\n",
    "precision = precision_score(y_test, y_pred)\n",
    "recall = recall_score(y_test, y_pred)\n",
    "f1 = f1_score(y_test, y_pred)\n",
    "\n",
    "print(f\"Precision: {precision}\")\n",
    "print(f\"Recall: {recall}\")\n",
    "print(f\"F1-score: {f1}\")"
   ]
  },
  {
   "cell_type": "markdown",
   "id": "f4d23665",
   "metadata": {},
   "source": [
    "Исходя из этих метрик можно сделать вывод, что модель является достаточно неточной в предсказании направления движения цены. "
   ]
  },
  {
   "cell_type": "markdown",
   "id": "e04c227c",
   "metadata": {},
   "source": [
    "Recall (полнота) показывает, какую долю объектов положительного класса модель способна обнаружить. В данном случае, recall равен 0.027, что означает, что из всех реальных положительных классов (движение цены \"вверх\"), модель способна обнаружить только 2.7%. Это очень низкий показатель."
   ]
  },
  {
   "cell_type": "markdown",
   "id": "0c6d9b6c",
   "metadata": {},
   "source": [
    "Модель не может точно идентифицировать периоды, когда цена на рынке будет двигаться вверх. Низкий recall может привести к упущению возможности получения прибыли при торговле на рынке, поскольку модель не будет сигнализировать об изменении направления движения цены в нужный момент."
   ]
  },
  {
   "cell_type": "markdown",
   "id": "21344558",
   "metadata": {},
   "source": [
    "Низкое значение F1-меры также говорит нам о том, что эта модель не применима на практике. Она указывает на низкую сбалансированность модели между точностью и полнотой."
   ]
  },
  {
   "cell_type": "markdown",
   "id": "0abd83df",
   "metadata": {},
   "source": [
    "Теперь попробуем построить другие модели классификации, чтобы сравнить их показатели и выбрать самую оптимальную из них."
   ]
  },
  {
   "cell_type": "markdown",
   "id": "9074aaa0",
   "metadata": {},
   "source": [
    "### Случайный лес (Random Forest)"
   ]
  },
  {
   "cell_type": "code",
   "execution_count": 25,
   "id": "ab1898cf",
   "metadata": {},
   "outputs": [
    {
     "name": "stdout",
     "output_type": "stream",
     "text": [
      "Время обучения модели: 4.43\n",
      "Accuracy: 0.5255586718537953\n",
      "Precision: 0.5398593200468933\n",
      "Recall: 0.17118959107806692\n",
      "F1-score: 0.25994919559695173\n"
     ]
    }
   ],
   "source": [
    "# Измеряем время перед обучением модели\n",
    "start_time = time.time()\n",
    "\n",
    "# Обучение модели случайного леса\n",
    "rfc = RandomForestClassifier(n_estimators=100, max_depth=5, random_state=42)\n",
    "rfc.fit(X_train_scaled, y_train)\n",
    "\n",
    "# Измеряем время после завершения обучения модели\n",
    "end_time = time.time()\n",
    "train_time = end_time - start_time\n",
    "print(f\"Время обучения модели: {train_time:.2f}\")\n",
    "\n",
    "# Оценка точности модели\n",
    "accuracy = rfc.score(X_test_scaled, y_test)\n",
    "print(f\"Accuracy: {accuracy}\")\n",
    "\n",
    "# Предсказание направления движения цены на тестовом наборе данных\n",
    "y_pred = rfc.predict(X_test_scaled)\n",
    "\n",
    "# Расчет метрик\n",
    "precision = precision_score(y_test, y_pred)\n",
    "recall = recall_score(y_test, y_pred)\n",
    "f1 = f1_score(y_test, y_pred)\n",
    "\n",
    "print(f\"Precision: {precision}\")\n",
    "print(f\"Recall: {recall}\")\n",
    "print(f\"F1-score: {f1}\")"
   ]
  },
  {
   "cell_type": "markdown",
   "id": "71710715",
   "metadata": {},
   "source": [
    "Если сравнивать эту модель с предыдущей, то мы можем заметить, что precision у модели на основе случайного леса заметно упал. Следовательно, из всех предсказанных моделью положительных классов 54% действительно являются положительными. Но при этом recall ощутимо повысился. Accuracy по-прежнему невысокая, F1-score = 0.26, это уже лучше, чем метрика для модели на основе метода опорных векторов, но все еще недостаточно для того, чтобы мы смогли в дальнейшем использовать эту модель."
   ]
  },
  {
   "cell_type": "markdown",
   "id": "7255661f",
   "metadata": {},
   "source": [
    "### Градиентный бустинг (Gradient Boosting)"
   ]
  },
  {
   "cell_type": "code",
   "execution_count": 30,
   "id": "d933589f",
   "metadata": {},
   "outputs": [
    {
     "name": "stdout",
     "output_type": "stream",
     "text": [
      "Время обучения модели: 8.87\n",
      "Accuracy: 0.541662896951054\n",
      "Precision: 0.8312236286919831\n",
      "Recall: 0.07323420074349442\n",
      "F1-score: 0.13460881448582165\n"
     ]
    }
   ],
   "source": [
    "# Измеряем время перед обучением модели\n",
    "start_time = time.time()\n",
    "\n",
    "# Обучение модели градиентного бустинга\n",
    "gb = GradientBoostingClassifier()\n",
    "gb.fit(X_train_scaled, y_train)\n",
    "\n",
    "# Измеряем время после завершения обучения модели\n",
    "end_time = time.time()\n",
    "train_time = end_time - start_time\n",
    "print(f\"Время обучения модели: {train_time:.2f}\")\n",
    "\n",
    "# Оценка точности модели\n",
    "accuracy = gb.score(X_test_scaled, y_test)\n",
    "print(f\"Accuracy: {accuracy}\")\n",
    "\n",
    "# Предсказание направления движения цены на тестовом наборе данных\n",
    "y_pred = gb.predict(X_test_scaled)\n",
    "\n",
    "# Расчет метрик\n",
    "precision = precision_score(y_test, y_pred)\n",
    "recall = recall_score(y_test, y_pred)\n",
    "f1 = f1_score(y_test, y_pred)\n",
    "\n",
    "print(f\"Precision: {precision}\")\n",
    "print(f\"Recall: {recall}\")\n",
    "print(f\"F1-score: {f1}\")"
   ]
  },
  {
   "cell_type": "markdown",
   "id": "6028f284",
   "metadata": {},
   "source": [
    "Эта модель по своим показателям схожа с моделью, построенной на основе метода опорных векторов. Она хорошо показывает, какая доля положительных предсказаний модели действительно является верными, но также имеет низкую способность обнаруживать и правильно классифицировать положительные примеры."
   ]
  },
  {
   "cell_type": "markdown",
   "id": "1edcd800",
   "metadata": {},
   "source": [
    "Модель градиентного бустинга также показывает недостаточно высокую точность и полноту в предсказании направления движения цены."
   ]
  },
  {
   "cell_type": "markdown",
   "id": "6d032183",
   "metadata": {},
   "source": [
    "### K-ближайших соседей (KNN)"
   ]
  },
  {
   "cell_type": "code",
   "execution_count": 34,
   "id": "14b07bb6",
   "metadata": {
    "collapsed": true
   },
   "outputs": [
    {
     "name": "stderr",
     "output_type": "stream",
     "text": [
      "C:\\Users\\podsh\\anaconda3\\lib\\site-packages\\sklearn\\neighbors\\_classification.py:228: FutureWarning: Unlike other reduction functions (e.g. `skew`, `kurtosis`), the default behavior of `mode` typically preserves the axis it acts along. In SciPy 1.11.0, this behavior will change: the default value of `keepdims` will become False, the `axis` over which the statistic is taken will be eliminated, and the value None will no longer be accepted. Set `keepdims` to True or False to avoid this warning.\n",
      "  mode, _ = stats.mode(_y[neigh_ind, k], axis=1)\n",
      "C:\\Users\\podsh\\anaconda3\\lib\\site-packages\\sklearn\\neighbors\\_classification.py:228: FutureWarning: Unlike other reduction functions (e.g. `skew`, `kurtosis`), the default behavior of `mode` typically preserves the axis it acts along. In SciPy 1.11.0, this behavior will change: the default value of `keepdims` will become False, the `axis` over which the statistic is taken will be eliminated, and the value None will no longer be accepted. Set `keepdims` to True or False to avoid this warning.\n",
      "  mode, _ = stats.mode(_y[neigh_ind, k], axis=1)\n"
     ]
    }
   ],
   "source": [
    "# Измеряем время перед обучением модели\n",
    "start_time = time.time()\n",
    "\n",
    "# Обучение модели KNN\n",
    "knn = KNeighborsClassifier()\n",
    "knn.fit(X_train_scaled, y_train)\n",
    "\n",
    "# Измеряем время после завершения обучения модели\n",
    "end_time = time.time()\n",
    "train_time = end_time - start_time\n",
    "\n",
    "# Оценка точности модели\n",
    "accuracy = knn.score(X_test_scaled, y_test)\n",
    "\n",
    "# Предсказание направления движения цены на тестовом наборе данных\n",
    "y_pred = knn.predict(X_test_scaled)\n",
    "\n",
    "# Расчет метрик\n",
    "precision = precision_score(y_test, y_pred)\n",
    "recall = recall_score(y_test, y_pred)\n",
    "f1 = f1_score(y_test, y_pred)"
   ]
  },
  {
   "cell_type": "code",
   "execution_count": 35,
   "id": "62291760",
   "metadata": {},
   "outputs": [
    {
     "name": "stdout",
     "output_type": "stream",
     "text": [
      "Время обучения модели: 0.03\n",
      "Accuracy: 0.51931602279924\n",
      "Precision: 0.5035141088849261\n",
      "Recall: 0.8921933085501859\n",
      "F1-score: 0.6437336552001609\n"
     ]
    }
   ],
   "source": [
    "print(f\"Время обучения модели: {train_time:.2f}\")\n",
    "print(f\"Accuracy: {accuracy}\")\n",
    "print(f\"Precision: {precision}\")\n",
    "print(f\"Recall: {recall}\")\n",
    "print(f\"F1-score: {f1}\")"
   ]
  },
  {
   "cell_type": "markdown",
   "id": "13754762",
   "metadata": {},
   "source": [
    "Модель KNN обучается быстрее всех предыдущих моделей и имеет лучшие показатели. В целом, модель KNN может быть полезной для обнаружения положительных примеров, но требует дальнейшего улучшения для достижения более высокой точности и precision. Но мы рассмотрим еще несколько моделей."
   ]
  },
  {
   "cell_type": "markdown",
   "id": "11d3d7d2",
   "metadata": {},
   "source": [
    "### Дерево принятия решений (Decision Tree)"
   ]
  },
  {
   "cell_type": "code",
   "execution_count": 38,
   "id": "247ecbf6",
   "metadata": {},
   "outputs": [
    {
     "name": "stdout",
     "output_type": "stream",
     "text": [
      "Время обучения модели: 2.94\n",
      "Accuracy: 0.5375011309146838\n",
      "Precision: 0.521640826873385\n",
      "Recall: 0.6003717472118959\n",
      "F1-score: 0.5582440373314898\n"
     ]
    }
   ],
   "source": [
    "# Измеряем время перед обучением модели\n",
    "start_time = time.time()\n",
    "\n",
    "# Обучение модели дерева принятия решений\n",
    "dt = DecisionTreeClassifier()\n",
    "dt.fit(X_train_scaled, y_train)\n",
    "\n",
    "# Измеряем время после завершения обучения модели\n",
    "end_time = time.time()\n",
    "train_time = end_time - start_time\n",
    "print(f\"Время обучения модели: {train_time:.2f}\")\n",
    "\n",
    "# Оценка точности модели\n",
    "accuracy = dt.score(X_test_scaled, y_test)\n",
    "print(f\"Accuracy: {accuracy}\")\n",
    "\n",
    "# Предсказание направления движения цены на тестовом наборе данных\n",
    "y_pred = dt.predict(X_test_scaled)\n",
    "\n",
    "# Расчет метрик\n",
    "precision = precision_score(y_test, y_pred)\n",
    "recall = recall_score(y_test, y_pred)\n",
    "f1 = f1_score(y_test, y_pred)\n",
    "\n",
    "print(f\"Precision: {precision}\")\n",
    "print(f\"Recall: {recall}\")\n",
    "print(f\"F1-score: {f1}\")"
   ]
  },
  {
   "cell_type": "markdown",
   "id": "05d87ff7",
   "metadata": {},
   "source": [
    "Модель Decision Tree хуже описывает наши данные, чем предыдущая модель KNN. Поэтому в дальнейшее рассмотрение мы её не включаем."
   ]
  },
  {
   "cell_type": "markdown",
   "id": "80924fe4",
   "metadata": {},
   "source": [
    "### Наивный Байесовский классификатор (Naive Bayes)"
   ]
  },
  {
   "cell_type": "code",
   "execution_count": 39,
   "id": "189d2ee9",
   "metadata": {},
   "outputs": [
    {
     "name": "stdout",
     "output_type": "stream",
     "text": [
      "Время обучения модели: 0.01\n",
      "Accuracy: 0.5114448566000181\n",
      "Precision: 0.4375\n",
      "Recall: 0.013011152416356878\n",
      "F1-score: 0.025270758122743684\n"
     ]
    }
   ],
   "source": [
    "# Измеряем время перед обучением модели\n",
    "start_time = time.time()\n",
    "\n",
    "# Обучение модели наивного Байесовского классификатора\n",
    "nb = GaussianNB()\n",
    "nb.fit(X_train_scaled, y_train)\n",
    "\n",
    "# Измеряем время после завершения обучения модели\n",
    "end_time = time.time()\n",
    "train_time = end_time - start_time\n",
    "print(f\"Время обучения модели: {train_time:.2f}\")\n",
    "\n",
    "# Оценка точности модели\n",
    "accuracy = nb.score(X_test_scaled, y_test)\n",
    "print(f\"Accuracy: {accuracy}\")\n",
    "\n",
    "# Предсказание направления движения цены на тестовом наборе данных\n",
    "y_pred = nb.predict(X_test_scaled)\n",
    "\n",
    "# Расчет метрик\n",
    "precision = precision_score(y_test, y_pred)\n",
    "recall = recall_score(y_test, y_pred)\n",
    "f1 = f1_score(y_test, y_pred)\n",
    "\n",
    "print(f\"Precision: {precision}\")\n",
    "print(f\"Recall: {recall}\")\n",
    "print(f\"F1-score: {f1}\")"
   ]
  },
  {
   "cell_type": "markdown",
   "id": "483c04c5",
   "metadata": {},
   "source": [
    "Модель Naive Bayes, несмотря на самую высокую скорость обучения, показывает самые низкие результаты. Она не способна правильно определять принадлежность объектов к классу."
   ]
  },
  {
   "cell_type": "markdown",
   "id": "34c84e69",
   "metadata": {},
   "source": [
    "### Логистическая регрессия"
   ]
  },
  {
   "cell_type": "markdown",
   "id": "b813beb0",
   "metadata": {},
   "source": [
    "Теперь попробуем предсказать направление движения цены с помощью логистической регрессии."
   ]
  },
  {
   "cell_type": "markdown",
   "id": "5b052b7b",
   "metadata": {},
   "source": [
    "Логистическая регрессия, как и предыдущие модели, позволяет моделировать вероятность отнесения объекта к определенному классу, в данном случае, вероятность того, что цена будет двигаться вверх или вниз."
   ]
  },
  {
   "cell_type": "code",
   "execution_count": 40,
   "id": "91532c13",
   "metadata": {},
   "outputs": [
    {
     "name": "stdout",
     "output_type": "stream",
     "text": [
      "Время обучения модели: 0.10\n",
      "Accuracy: 0.779607346421786\n",
      "Precision: 0.9919786096256684\n",
      "Recall: 0.5516728624535316\n",
      "F1-score: 0.7090301003344482\n"
     ]
    }
   ],
   "source": [
    "# Определение направления движения цены\n",
    "d2['direction'] = (d2['close'] - d2['open']).apply(lambda x: 1 if x > 0 else 0)\n",
    "\n",
    "# Создание признаков\n",
    "d2['open_shifted'] = d2['open'].shift(1)\n",
    "d2['high_shifted'] = d2['high'].shift(1)\n",
    "d2['low_shifted'] = d2['low'].shift(1)\n",
    "d2['close_shifted'] = d2['close'].shift(1)\n",
    "d2['volume_shifted'] = d2['volume'].shift(1)\n",
    "d2['direction_shifted'] = d2['direction'].shift(1)\n",
    "\n",
    "# Удаление строк с пропущенными значениями\n",
    "d2.dropna(inplace=True)\n",
    "\n",
    "# Определение X и y\n",
    "X = d2[['open_shifted', 'high_shifted', 'low_shifted', 'close_shifted', 'volume_shifted']]\n",
    "y = d2['direction_shifted']\n",
    "\n",
    "# Разделение данных на обучающую и тестовую выборки\n",
    "split_index = int(0.7 * len(d2))\n",
    "X_train = X.iloc[:split_index]\n",
    "y_train = y.iloc[:split_index]\n",
    "X_test = X.iloc[split_index:]\n",
    "y_test = y.iloc[split_index:]\n",
    "\n",
    "# Масштабирование данных\n",
    "scaler = MinMaxScaler()\n",
    "X_train_scaled = scaler.fit_transform(X_train)\n",
    "X_test_scaled = scaler.transform(X_test)\n",
    "\n",
    "# Измеряем время перед обучением модели\n",
    "start_time = time.time()\n",
    "\n",
    "# Обучение модели логистической регрессии\n",
    "lr = LogisticRegression()\n",
    "lr.fit(X_train_scaled, y_train)\n",
    "\n",
    "# Измеряем время после завершения обучения модели\n",
    "end_time = time.time()\n",
    "train_time = end_time - start_time\n",
    "print(f\"Время обучения модели: {train_time:.2f}\")\n",
    "\n",
    "# Оценка точности модели\n",
    "accuracy = lr.score(X_test_scaled, y_test)\n",
    "print(f\"Accuracy: {accuracy}\")\n",
    "\n",
    "# Предсказание направления движения цены на тестовом наборе данных\n",
    "y_pred = lr.predict(X_test_scaled)\n",
    "\n",
    "# Расчет метрик\n",
    "precision = precision_score(y_test, y_pred)\n",
    "recall = recall_score(y_test, y_pred)\n",
    "f1 = f1_score(y_test, y_pred)\n",
    "\n",
    "print(f\"Precision: {precision}\")\n",
    "print(f\"Recall: {recall}\")\n",
    "print(f\"F1-score: {f1}\")"
   ]
  },
  {
   "cell_type": "markdown",
   "id": "871702dd",
   "metadata": {},
   "source": [
    "Модель логистической регрессии, обученная на признаках, основанных на предыдущих значениях цены и объема торгов, показывает точность примерно 78%, что является довольно неплохим результатом. "
   ]
  },
  {
   "cell_type": "markdown",
   "id": "9e360a59",
   "metadata": {},
   "source": [
    "Значение метрики F1-score (гармоническое среднее между precision и recall) составляет примерно 0.71, таким образом, можно сделать вывод, что построенная модель логистической регрессии может быть полезной для предсказания направления движения цены."
   ]
  },
  {
   "cell_type": "markdown",
   "id": "35408888",
   "metadata": {},
   "source": [
    "К тому же, если сравнивать время обучения всех моделей, модель логистической регрессии показала неплохой результат. Показатели модели логистической регрессии намного лучше, чем у построенных ранее моделей. Таким образом, далее, для анализа, мы будем использовать именно эту модель."
   ]
  },
  {
   "cell_type": "markdown",
   "id": "a86cc3a4",
   "metadata": {},
   "source": [
    "Теперь для наглядности построим и выведем таблицу с предсказанными и реальными значениями, а также добавим столбец с ошибкой."
   ]
  },
  {
   "cell_type": "code",
   "execution_count": 16,
   "id": "a050a7b8",
   "metadata": {
    "scrolled": false
   },
   "outputs": [
    {
     "name": "stdout",
     "output_type": "stream",
     "text": [
      "Предсказанные значения:\n"
     ]
    },
    {
     "data": {
      "text/html": [
       "<div>\n",
       "<style scoped>\n",
       "    .dataframe tbody tr th:only-of-type {\n",
       "        vertical-align: middle;\n",
       "    }\n",
       "\n",
       "    .dataframe tbody tr th {\n",
       "        vertical-align: top;\n",
       "    }\n",
       "\n",
       "    .dataframe thead th {\n",
       "        text-align: right;\n",
       "    }\n",
       "</style>\n",
       "<table border=\"1\" class=\"dataframe\">\n",
       "  <thead>\n",
       "    <tr style=\"text-align: right;\">\n",
       "      <th></th>\n",
       "      <th>open_shifted</th>\n",
       "      <th>high_shifted</th>\n",
       "      <th>low_shifted</th>\n",
       "      <th>close_shifted</th>\n",
       "      <th>volume_shifted</th>\n",
       "      <th>close_pred</th>\n",
       "      <th>error</th>\n",
       "    </tr>\n",
       "  </thead>\n",
       "  <tbody>\n",
       "    <tr>\n",
       "      <th>25791</th>\n",
       "      <td>1.18082</td>\n",
       "      <td>1.18113</td>\n",
       "      <td>1.18076</td>\n",
       "      <td>1.0</td>\n",
       "      <td>800.0</td>\n",
       "      <td>1.0</td>\n",
       "      <td>0.0</td>\n",
       "    </tr>\n",
       "    <tr>\n",
       "      <th>25792</th>\n",
       "      <td>1.18108</td>\n",
       "      <td>1.18119</td>\n",
       "      <td>1.18087</td>\n",
       "      <td>0.0</td>\n",
       "      <td>745.0</td>\n",
       "      <td>0.0</td>\n",
       "      <td>0.0</td>\n",
       "    </tr>\n",
       "    <tr>\n",
       "      <th>25793</th>\n",
       "      <td>1.18088</td>\n",
       "      <td>1.18101</td>\n",
       "      <td>1.18076</td>\n",
       "      <td>0.0</td>\n",
       "      <td>743.0</td>\n",
       "      <td>0.0</td>\n",
       "      <td>0.0</td>\n",
       "    </tr>\n",
       "    <tr>\n",
       "      <th>25794</th>\n",
       "      <td>1.18082</td>\n",
       "      <td>1.18083</td>\n",
       "      <td>1.18036</td>\n",
       "      <td>0.0</td>\n",
       "      <td>935.0</td>\n",
       "      <td>0.0</td>\n",
       "      <td>0.0</td>\n",
       "    </tr>\n",
       "    <tr>\n",
       "      <th>25795</th>\n",
       "      <td>1.18070</td>\n",
       "      <td>1.18085</td>\n",
       "      <td>1.18052</td>\n",
       "      <td>1.0</td>\n",
       "      <td>622.0</td>\n",
       "      <td>0.0</td>\n",
       "      <td>1.0</td>\n",
       "    </tr>\n",
       "    <tr>\n",
       "      <th>25796</th>\n",
       "      <td>1.18081</td>\n",
       "      <td>1.18090</td>\n",
       "      <td>1.18072</td>\n",
       "      <td>0.0</td>\n",
       "      <td>697.0</td>\n",
       "      <td>0.0</td>\n",
       "      <td>0.0</td>\n",
       "    </tr>\n",
       "    <tr>\n",
       "      <th>25797</th>\n",
       "      <td>1.18076</td>\n",
       "      <td>1.18096</td>\n",
       "      <td>1.18066</td>\n",
       "      <td>0.0</td>\n",
       "      <td>532.0</td>\n",
       "      <td>0.0</td>\n",
       "      <td>0.0</td>\n",
       "    </tr>\n",
       "    <tr>\n",
       "      <th>25798</th>\n",
       "      <td>1.18068</td>\n",
       "      <td>1.18068</td>\n",
       "      <td>1.18043</td>\n",
       "      <td>0.0</td>\n",
       "      <td>560.0</td>\n",
       "      <td>0.0</td>\n",
       "      <td>0.0</td>\n",
       "    </tr>\n",
       "    <tr>\n",
       "      <th>25799</th>\n",
       "      <td>1.18055</td>\n",
       "      <td>1.18063</td>\n",
       "      <td>1.18047</td>\n",
       "      <td>1.0</td>\n",
       "      <td>634.0</td>\n",
       "      <td>0.0</td>\n",
       "      <td>1.0</td>\n",
       "    </tr>\n",
       "    <tr>\n",
       "      <th>25800</th>\n",
       "      <td>1.18062</td>\n",
       "      <td>1.18078</td>\n",
       "      <td>1.18056</td>\n",
       "      <td>0.0</td>\n",
       "      <td>348.0</td>\n",
       "      <td>0.0</td>\n",
       "      <td>0.0</td>\n",
       "    </tr>\n",
       "    <tr>\n",
       "      <th>25801</th>\n",
       "      <td>1.18060</td>\n",
       "      <td>1.18074</td>\n",
       "      <td>1.18060</td>\n",
       "      <td>1.0</td>\n",
       "      <td>362.0</td>\n",
       "      <td>0.0</td>\n",
       "      <td>1.0</td>\n",
       "    </tr>\n",
       "    <tr>\n",
       "      <th>25802</th>\n",
       "      <td>1.18072</td>\n",
       "      <td>1.18095</td>\n",
       "      <td>1.18070</td>\n",
       "      <td>1.0</td>\n",
       "      <td>387.0</td>\n",
       "      <td>1.0</td>\n",
       "      <td>0.0</td>\n",
       "    </tr>\n",
       "    <tr>\n",
       "      <th>25803</th>\n",
       "      <td>1.18092</td>\n",
       "      <td>1.18094</td>\n",
       "      <td>1.18078</td>\n",
       "      <td>0.0</td>\n",
       "      <td>549.0</td>\n",
       "      <td>0.0</td>\n",
       "      <td>0.0</td>\n",
       "    </tr>\n",
       "    <tr>\n",
       "      <th>25804</th>\n",
       "      <td>1.18083</td>\n",
       "      <td>1.18092</td>\n",
       "      <td>1.18077</td>\n",
       "      <td>1.0</td>\n",
       "      <td>304.0</td>\n",
       "      <td>0.0</td>\n",
       "      <td>1.0</td>\n",
       "    </tr>\n",
       "    <tr>\n",
       "      <th>25805</th>\n",
       "      <td>1.18085</td>\n",
       "      <td>1.18087</td>\n",
       "      <td>1.18057</td>\n",
       "      <td>0.0</td>\n",
       "      <td>373.0</td>\n",
       "      <td>0.0</td>\n",
       "      <td>0.0</td>\n",
       "    </tr>\n",
       "    <tr>\n",
       "      <th>25806</th>\n",
       "      <td>1.18061</td>\n",
       "      <td>1.18076</td>\n",
       "      <td>1.18053</td>\n",
       "      <td>1.0</td>\n",
       "      <td>560.0</td>\n",
       "      <td>0.0</td>\n",
       "      <td>1.0</td>\n",
       "    </tr>\n",
       "    <tr>\n",
       "      <th>25807</th>\n",
       "      <td>1.18075</td>\n",
       "      <td>1.18091</td>\n",
       "      <td>1.18068</td>\n",
       "      <td>0.0</td>\n",
       "      <td>261.0</td>\n",
       "      <td>0.0</td>\n",
       "      <td>0.0</td>\n",
       "    </tr>\n",
       "    <tr>\n",
       "      <th>25808</th>\n",
       "      <td>1.18075</td>\n",
       "      <td>1.18076</td>\n",
       "      <td>1.18065</td>\n",
       "      <td>0.0</td>\n",
       "      <td>211.0</td>\n",
       "      <td>0.0</td>\n",
       "      <td>0.0</td>\n",
       "    </tr>\n",
       "    <tr>\n",
       "      <th>25809</th>\n",
       "      <td>1.18069</td>\n",
       "      <td>1.18069</td>\n",
       "      <td>1.18046</td>\n",
       "      <td>0.0</td>\n",
       "      <td>274.0</td>\n",
       "      <td>0.0</td>\n",
       "      <td>0.0</td>\n",
       "    </tr>\n",
       "    <tr>\n",
       "      <th>25810</th>\n",
       "      <td>1.18052</td>\n",
       "      <td>1.18056</td>\n",
       "      <td>1.18048</td>\n",
       "      <td>0.0</td>\n",
       "      <td>108.0</td>\n",
       "      <td>0.0</td>\n",
       "      <td>0.0</td>\n",
       "    </tr>\n",
       "    <tr>\n",
       "      <th>25811</th>\n",
       "      <td>1.18049</td>\n",
       "      <td>1.18060</td>\n",
       "      <td>1.18043</td>\n",
       "      <td>1.0</td>\n",
       "      <td>337.0</td>\n",
       "      <td>0.0</td>\n",
       "      <td>1.0</td>\n",
       "    </tr>\n",
       "    <tr>\n",
       "      <th>25812</th>\n",
       "      <td>1.18051</td>\n",
       "      <td>1.18066</td>\n",
       "      <td>1.18047</td>\n",
       "      <td>1.0</td>\n",
       "      <td>513.0</td>\n",
       "      <td>0.0</td>\n",
       "      <td>1.0</td>\n",
       "    </tr>\n",
       "    <tr>\n",
       "      <th>25813</th>\n",
       "      <td>1.18060</td>\n",
       "      <td>1.18064</td>\n",
       "      <td>1.18008</td>\n",
       "      <td>0.0</td>\n",
       "      <td>816.0</td>\n",
       "      <td>0.0</td>\n",
       "      <td>0.0</td>\n",
       "    </tr>\n",
       "    <tr>\n",
       "      <th>25814</th>\n",
       "      <td>1.18033</td>\n",
       "      <td>1.18047</td>\n",
       "      <td>1.18014</td>\n",
       "      <td>0.0</td>\n",
       "      <td>597.0</td>\n",
       "      <td>0.0</td>\n",
       "      <td>0.0</td>\n",
       "    </tr>\n",
       "    <tr>\n",
       "      <th>25815</th>\n",
       "      <td>1.18016</td>\n",
       "      <td>1.18051</td>\n",
       "      <td>1.18010</td>\n",
       "      <td>1.0</td>\n",
       "      <td>608.0</td>\n",
       "      <td>1.0</td>\n",
       "      <td>0.0</td>\n",
       "    </tr>\n",
       "    <tr>\n",
       "      <th>25816</th>\n",
       "      <td>1.18038</td>\n",
       "      <td>1.18058</td>\n",
       "      <td>1.18038</td>\n",
       "      <td>1.0</td>\n",
       "      <td>534.0</td>\n",
       "      <td>1.0</td>\n",
       "      <td>0.0</td>\n",
       "    </tr>\n",
       "    <tr>\n",
       "      <th>25817</th>\n",
       "      <td>1.18056</td>\n",
       "      <td>1.18070</td>\n",
       "      <td>1.18041</td>\n",
       "      <td>1.0</td>\n",
       "      <td>958.0</td>\n",
       "      <td>0.0</td>\n",
       "      <td>1.0</td>\n",
       "    </tr>\n",
       "    <tr>\n",
       "      <th>25818</th>\n",
       "      <td>1.18058</td>\n",
       "      <td>1.18090</td>\n",
       "      <td>1.18032</td>\n",
       "      <td>0.0</td>\n",
       "      <td>1120.0</td>\n",
       "      <td>0.0</td>\n",
       "      <td>0.0</td>\n",
       "    </tr>\n",
       "    <tr>\n",
       "      <th>25819</th>\n",
       "      <td>1.18031</td>\n",
       "      <td>1.18085</td>\n",
       "      <td>1.18022</td>\n",
       "      <td>1.0</td>\n",
       "      <td>1061.0</td>\n",
       "      <td>1.0</td>\n",
       "      <td>0.0</td>\n",
       "    </tr>\n",
       "    <tr>\n",
       "      <th>25820</th>\n",
       "      <td>1.18064</td>\n",
       "      <td>1.18074</td>\n",
       "      <td>1.18036</td>\n",
       "      <td>0.0</td>\n",
       "      <td>888.0</td>\n",
       "      <td>0.0</td>\n",
       "      <td>0.0</td>\n",
       "    </tr>\n",
       "  </tbody>\n",
       "</table>\n",
       "</div>"
      ],
      "text/plain": [
       "       open_shifted  high_shifted  low_shifted  close_shifted  volume_shifted  \\\n",
       "25791       1.18082       1.18113      1.18076            1.0           800.0   \n",
       "25792       1.18108       1.18119      1.18087            0.0           745.0   \n",
       "25793       1.18088       1.18101      1.18076            0.0           743.0   \n",
       "25794       1.18082       1.18083      1.18036            0.0           935.0   \n",
       "25795       1.18070       1.18085      1.18052            1.0           622.0   \n",
       "25796       1.18081       1.18090      1.18072            0.0           697.0   \n",
       "25797       1.18076       1.18096      1.18066            0.0           532.0   \n",
       "25798       1.18068       1.18068      1.18043            0.0           560.0   \n",
       "25799       1.18055       1.18063      1.18047            1.0           634.0   \n",
       "25800       1.18062       1.18078      1.18056            0.0           348.0   \n",
       "25801       1.18060       1.18074      1.18060            1.0           362.0   \n",
       "25802       1.18072       1.18095      1.18070            1.0           387.0   \n",
       "25803       1.18092       1.18094      1.18078            0.0           549.0   \n",
       "25804       1.18083       1.18092      1.18077            1.0           304.0   \n",
       "25805       1.18085       1.18087      1.18057            0.0           373.0   \n",
       "25806       1.18061       1.18076      1.18053            1.0           560.0   \n",
       "25807       1.18075       1.18091      1.18068            0.0           261.0   \n",
       "25808       1.18075       1.18076      1.18065            0.0           211.0   \n",
       "25809       1.18069       1.18069      1.18046            0.0           274.0   \n",
       "25810       1.18052       1.18056      1.18048            0.0           108.0   \n",
       "25811       1.18049       1.18060      1.18043            1.0           337.0   \n",
       "25812       1.18051       1.18066      1.18047            1.0           513.0   \n",
       "25813       1.18060       1.18064      1.18008            0.0           816.0   \n",
       "25814       1.18033       1.18047      1.18014            0.0           597.0   \n",
       "25815       1.18016       1.18051      1.18010            1.0           608.0   \n",
       "25816       1.18038       1.18058      1.18038            1.0           534.0   \n",
       "25817       1.18056       1.18070      1.18041            1.0           958.0   \n",
       "25818       1.18058       1.18090      1.18032            0.0          1120.0   \n",
       "25819       1.18031       1.18085      1.18022            1.0          1061.0   \n",
       "25820       1.18064       1.18074      1.18036            0.0           888.0   \n",
       "\n",
       "       close_pred  error  \n",
       "25791         1.0    0.0  \n",
       "25792         0.0    0.0  \n",
       "25793         0.0    0.0  \n",
       "25794         0.0    0.0  \n",
       "25795         0.0    1.0  \n",
       "25796         0.0    0.0  \n",
       "25797         0.0    0.0  \n",
       "25798         0.0    0.0  \n",
       "25799         0.0    1.0  \n",
       "25800         0.0    0.0  \n",
       "25801         0.0    1.0  \n",
       "25802         1.0    0.0  \n",
       "25803         0.0    0.0  \n",
       "25804         0.0    1.0  \n",
       "25805         0.0    0.0  \n",
       "25806         0.0    1.0  \n",
       "25807         0.0    0.0  \n",
       "25808         0.0    0.0  \n",
       "25809         0.0    0.0  \n",
       "25810         0.0    0.0  \n",
       "25811         0.0    1.0  \n",
       "25812         0.0    1.0  \n",
       "25813         0.0    0.0  \n",
       "25814         0.0    0.0  \n",
       "25815         1.0    0.0  \n",
       "25816         1.0    0.0  \n",
       "25817         0.0    1.0  \n",
       "25818         0.0    0.0  \n",
       "25819         1.0    0.0  \n",
       "25820         0.0    0.0  "
      ]
     },
     "metadata": {},
     "output_type": "display_data"
    },
    {
     "name": "stdout",
     "output_type": "stream",
     "text": [
      "Предсказание: Рынок растет\n"
     ]
    }
   ],
   "source": [
    "print(\"Предсказанные значения:\")\n",
    "display(pd.DataFrame(X_test, columns=X.columns).assign(**{\n",
    "    \"close_shifted\": np.array(y_test),\n",
    "    \"close_pred\": y_pred,\n",
    "    \"error\": np.array(y_test) - y_pred,\n",
    "}).head(30).round(5))\n",
    "\n",
    "# Прогноз направления движения цены\n",
    "X_pred = d2[['open_shifted', 'high_shifted', 'low_shifted', 'close_shifted', 'volume_shifted']].tail(1)\n",
    "X_pred_scaled = scaler.transform(X_pred)\n",
    "y_pred = lr.predict(X_pred_scaled)\n",
    "if y_pred == 1:\n",
    "    print(\"Предсказание: Рынок растет\")\n",
    "else:\n",
    "    print(\"Предсказание: Рынок падает\")"
   ]
  },
  {
   "cell_type": "markdown",
   "id": "492540e0",
   "metadata": {},
   "source": [
    "Здесь `close_shifted` - это реальное направление движения цены, а `close_pred` - предсказанное."
   ]
  },
  {
   "cell_type": "markdown",
   "id": "222d47b9",
   "metadata": {},
   "source": [
    "Для визуальной оценки качества бинарной классификации построим ROC кривую, которая описывает взаимосвязь между чувствительностью модели (TPR, или true positives rate — доля истинно положительных примеров) и её специфичностью (описываемой в отношении долей ложноположительных результатов: 1-FPR)."
   ]
  },
  {
   "cell_type": "code",
   "execution_count": 65,
   "id": "9e81f390",
   "metadata": {},
   "outputs": [
    {
     "data": {
      "image/png": "[encoded data removed]",
      "text/plain": [
       "<Figure size 640x480 with 1 Axes>"
      ]
     },
     "metadata": {},
     "output_type": "display_data"
    }
   ],
   "source": [
    "# Вычисление вероятностей принадлежности к положительному классу\n",
    "y_prob = lr.predict_proba(X_test_scaled)[:, 1]\n",
    "\n",
    "# Вычисление FPR и TPR\n",
    "fpr, tpr, thresholds = roc_curve(y_test, y_prob)\n",
    "\n",
    "# Вычисление площади под ROC-кривой (AUC)\n",
    "auc = roc_auc_score(y_test, y_prob)\n",
    "\n",
    "# Построение ROC-кривой\n",
    "plt.plot(fpr, tpr, label=f\"AUC = {auc:.2f}\")\n",
    "plt.plot([0, 1], [0, 1], 'k--')\n",
    "plt.xlabel('False Positive Rate')\n",
    "plt.ylabel('True Positive Rate')\n",
    "plt.title('ROC Curve')\n",
    "plt.legend()\n",
    "plt.show()"
   ]
  },
  {
   "cell_type": "markdown",
   "id": "e27b6ae4",
   "metadata": {},
   "source": [
    "Площадь под ROC-кривой (AUC) является мерой качества классификатора: чем больше AUC, тем лучше качество классификации.\\\n",
    "\\\n",
    "Значение AUC = 0.5 соответствует случайному угадыванию.\\\n",
    "Значения AUC выше 0.5 обычно считаются лучшими, чем случайное угадывание, а значение 1.0 соответствует идеальному предсказанию.\\\n",
    "\\\n",
    "Следовательно, наша модель на тестовой выборке ведет себя намного лучше, чем случайный выбор."
   ]
  },
  {
   "cell_type": "markdown",
   "id": "0606e0ba",
   "metadata": {},
   "source": [
    "Теперь оценим качество построенной модели методом кросс-валидации."
   ]
  },
  {
   "cell_type": "markdown",
   "id": "5a678bc5",
   "metadata": {},
   "source": [
    "Оценка качества модели методом кросс-валидации позволяет получить более объективную оценку ее эффективности на новых данных, чем оценка на одном тестовом наборе. При кросс-валидации данные разбиваются на несколько частей, и каждая часть по очереди используется для тестирования модели, а оставшиеся части для ее обучения. Таким образом, каждый элемент данных используется и для обучения, и для тестирования модели, и результаты оценки качества усредняются по всем частям. Это позволяет получить более надежные оценки качества модели."
   ]
  },
  {
   "cell_type": "code",
   "execution_count": 17,
   "id": "7098ee7b",
   "metadata": {},
   "outputs": [
    {
     "name": "stdout",
     "output_type": "stream",
     "text": [
      "Средняя оценка: 0.7402051147031458\n",
      "Стандартное отклонение: 0.041746782965109544\n"
     ]
    }
   ],
   "source": [
    "scores = cross_val_score(lr, X_train_scaled, y_train, cv=7)\n",
    "\n",
    "print(f\"Средняя оценка: {scores.mean()}\")\n",
    "print(f\"Стандартное отклонение: {scores.std()}\")"
   ]
  },
  {
   "cell_type": "markdown",
   "id": "e630059b",
   "metadata": {},
   "source": [
    "Средняя оценка качества модели на кросс-валидации равна 0.74. Это достаточно высокий показатель для прогнозирования направления движения цены.\\\n",
    "   \\\n",
    "Стандартное отклонение оценок равно 0.041, это говорит о том, что точность модели может варьироваться в зависимости от выборки данных. В целом, полученные результаты свидетельствуют о том, что с этой моделью можно работать."
   ]
  },
  {
   "cell_type": "markdown",
   "id": "095c8d0d",
   "metadata": {},
   "source": [
    "Не будем судить о качестве модели опираясь только на полученные метрики. В реальности все будет выглядеть иначе. Поэтому проверим наши предсказания на практике, для этого создадим условия торгов на финансовом рынке с использованием нашей модели."
   ]
  },
  {
   "cell_type": "markdown",
   "id": "b71d1f16",
   "metadata": {},
   "source": [
    "Проверим нашу модель для начала на данных за одни сутки с 2021-04-22 (22:10:00) по 2021-04-23 (22:10:00)."
   ]
  },
  {
   "cell_type": "code",
   "execution_count": 41,
   "id": "1159bb2e",
   "metadata": {},
   "outputs": [],
   "source": [
    "dd = d2.loc[(d2['datetime'] >= '2021-04-22 22:10:00') & (d2['datetime'] <= '2021-04-23 22:10:00')]\n",
    "\n",
    "# Создание датафрейма с ценами и временными отметками\n",
    "d3 = pd.DataFrame({'time': dd['datetime'], 'close': dd['close']})"
   ]
  },
  {
   "cell_type": "markdown",
   "id": "3de571b2",
   "metadata": {},
   "source": [
    "Возьмем несколько свечей, за 3 часа, за 2.5 часа, за 2 часа, за 1.5 часа, за 1 час, 50 минут, 40 минут, ..., 10 минут до текущей свечи. И посчитаем изменение цены с этих свечей к текущему моменту."
   ]
  },
  {
   "cell_type": "markdown",
   "id": "33dc8dae",
   "metadata": {},
   "source": [
    "Далее возьмем свечу через 3 часа. Сохраним разницу ее цены с текущей свечкой - это будет направление цены через 3 часа. Направление (1, 0) будет таргетом. А признаками будут изменения цены за прошедшие 3 часа, выше. "
   ]
  },
  {
   "cell_type": "code",
   "execution_count": 42,
   "id": "5906965f",
   "metadata": {},
   "outputs": [],
   "source": [
    "# Создание признаков - изменение цены с прошлых свечей\n",
    "d3['change_3h'] = (d3['close'] - d3['close'].shift(18)) / d3['close'].shift(18)\n",
    "d3['change_2.5h'] = (d3['close'] - d3['close'].shift(15)) / d3['close'].shift(15)\n",
    "d3['change_2h'] = (d3['close'] - d3['close'].shift(12)) / d3['close'].shift(12)\n",
    "d3['change_1.5h'] = (d3['close'] - d3['close'].shift(9)) / d3['close'].shift(9)\n",
    "d3['change_1h'] = (d3['close'] - d3['close'].shift(6)) / d3['close'].shift(6)\n",
    "d3['change_50min'] = (d3['close'] - d3['close'].shift(5)) / d3['close'].shift(5)\n",
    "d3['change_40min'] = (d3['close'] - d3['close'].shift(4)) / d3['close'].shift(4)\n",
    "d3['change_30min'] = (d3['close'] - d3['close'].shift(3)) / d3['close'].shift(3)\n",
    "d3['change_20min'] = (d3['close'] - d3['close'].shift(2)) / d3['close'].shift(2)\n",
    "d3['change_10min'] = (d3['close'] - d3['close'].shift(1)) / d3['close'].shift(1)\n",
    "\n",
    "# Добавление столбца с изменением цены через 3 часа\n",
    "d3['change'] = d3['close'].shift(-18) - d3['close']\n",
    "\n",
    "# Определение направления движения цены через 3 часа\n",
    "d3['direction_3h'] = np.where(d3['close'].shift(-18) > d3['close'], 1, 0)\n",
    "d3.dropna(inplace=True)"
   ]
  },
  {
   "cell_type": "code",
   "execution_count": 39,
   "id": "bc99e186",
   "metadata": {
    "scrolled": true
   },
   "outputs": [
    {
     "data": {
      "text/html": [
       "<div>\n",
       "<style scoped>\n",
       "    .dataframe tbody tr th:only-of-type {\n",
       "        vertical-align: middle;\n",
       "    }\n",
       "\n",
       "    .dataframe tbody tr th {\n",
       "        vertical-align: top;\n",
       "    }\n",
       "\n",
       "    .dataframe thead th {\n",
       "        text-align: right;\n",
       "    }\n",
       "</style>\n",
       "<table border=\"1\" class=\"dataframe\">\n",
       "  <thead>\n",
       "    <tr style=\"text-align: right;\">\n",
       "      <th></th>\n",
       "      <th>time</th>\n",
       "      <th>close</th>\n",
       "      <th>change_3h</th>\n",
       "      <th>change_2.5h</th>\n",
       "      <th>change_2h</th>\n",
       "      <th>change_1.5h</th>\n",
       "      <th>change_1h</th>\n",
       "      <th>change_50min</th>\n",
       "      <th>change_40min</th>\n",
       "      <th>change_30min</th>\n",
       "      <th>change_20min</th>\n",
       "      <th>change_10min</th>\n",
       "      <th>change</th>\n",
       "      <th>direction_3h</th>\n",
       "    </tr>\n",
       "  </thead>\n",
       "  <tbody>\n",
       "    <tr>\n",
       "      <th>11244</th>\n",
       "      <td>2021-04-23 01:10:27</td>\n",
       "      <td>1.20223</td>\n",
       "      <td>0.000574</td>\n",
       "      <td>0.000624</td>\n",
       "      <td>0.000574</td>\n",
       "      <td>0.000741</td>\n",
       "      <td>0.000391</td>\n",
       "      <td>0.000333</td>\n",
       "      <td>0.000383</td>\n",
       "      <td>0.000708</td>\n",
       "      <td>0.000158</td>\n",
       "      <td>0.000208</td>\n",
       "      <td>0.00016</td>\n",
       "      <td>1</td>\n",
       "    </tr>\n",
       "    <tr>\n",
       "      <th>11245</th>\n",
       "      <td>2021-04-23 01:20:00</td>\n",
       "      <td>1.20219</td>\n",
       "      <td>0.000508</td>\n",
       "      <td>0.000583</td>\n",
       "      <td>0.000549</td>\n",
       "      <td>0.000633</td>\n",
       "      <td>0.000300</td>\n",
       "      <td>0.000349</td>\n",
       "      <td>0.000674</td>\n",
       "      <td>0.000125</td>\n",
       "      <td>0.000175</td>\n",
       "      <td>-0.000033</td>\n",
       "      <td>0.00019</td>\n",
       "      <td>1</td>\n",
       "    </tr>\n",
       "    <tr>\n",
       "      <th>11246</th>\n",
       "      <td>2021-04-23 01:30:01</td>\n",
       "      <td>1.20230</td>\n",
       "      <td>0.000724</td>\n",
       "      <td>0.000583</td>\n",
       "      <td>0.000633</td>\n",
       "      <td>0.000558</td>\n",
       "      <td>0.000441</td>\n",
       "      <td>0.000766</td>\n",
       "      <td>0.000216</td>\n",
       "      <td>0.000266</td>\n",
       "      <td>0.000058</td>\n",
       "      <td>0.000091</td>\n",
       "      <td>0.00013</td>\n",
       "      <td>1</td>\n",
       "    </tr>\n",
       "    <tr>\n",
       "      <th>11247</th>\n",
       "      <td>2021-04-23 01:40:00</td>\n",
       "      <td>1.20223</td>\n",
       "      <td>0.000624</td>\n",
       "      <td>0.000574</td>\n",
       "      <td>0.000741</td>\n",
       "      <td>0.000391</td>\n",
       "      <td>0.000708</td>\n",
       "      <td>0.000158</td>\n",
       "      <td>0.000208</td>\n",
       "      <td>0.000000</td>\n",
       "      <td>0.000033</td>\n",
       "      <td>-0.000058</td>\n",
       "      <td>0.00036</td>\n",
       "      <td>1</td>\n",
       "    </tr>\n",
       "    <tr>\n",
       "      <th>11248</th>\n",
       "      <td>2021-04-23 01:50:00</td>\n",
       "      <td>1.20253</td>\n",
       "      <td>0.000866</td>\n",
       "      <td>0.000832</td>\n",
       "      <td>0.000916</td>\n",
       "      <td>0.000582</td>\n",
       "      <td>0.000408</td>\n",
       "      <td>0.000458</td>\n",
       "      <td>0.000250</td>\n",
       "      <td>0.000283</td>\n",
       "      <td>0.000191</td>\n",
       "      <td>0.000250</td>\n",
       "      <td>0.00013</td>\n",
       "      <td>1</td>\n",
       "    </tr>\n",
       "    <tr>\n",
       "      <th>...</th>\n",
       "      <td>...</td>\n",
       "      <td>...</td>\n",
       "      <td>...</td>\n",
       "      <td>...</td>\n",
       "      <td>...</td>\n",
       "      <td>...</td>\n",
       "      <td>...</td>\n",
       "      <td>...</td>\n",
       "      <td>...</td>\n",
       "      <td>...</td>\n",
       "      <td>...</td>\n",
       "      <td>...</td>\n",
       "      <td>...</td>\n",
       "      <td>...</td>\n",
       "    </tr>\n",
       "    <tr>\n",
       "      <th>11340</th>\n",
       "      <td>2021-04-23 17:10:05</td>\n",
       "      <td>1.20791</td>\n",
       "      <td>0.001808</td>\n",
       "      <td>0.002207</td>\n",
       "      <td>0.001883</td>\n",
       "      <td>0.000787</td>\n",
       "      <td>0.000538</td>\n",
       "      <td>0.000688</td>\n",
       "      <td>0.000787</td>\n",
       "      <td>0.000456</td>\n",
       "      <td>0.000199</td>\n",
       "      <td>0.000364</td>\n",
       "      <td>0.00155</td>\n",
       "      <td>1</td>\n",
       "    </tr>\n",
       "    <tr>\n",
       "      <th>11341</th>\n",
       "      <td>2021-04-23 17:20:01</td>\n",
       "      <td>1.20794</td>\n",
       "      <td>0.001634</td>\n",
       "      <td>0.002498</td>\n",
       "      <td>0.001426</td>\n",
       "      <td>0.000928</td>\n",
       "      <td>0.000712</td>\n",
       "      <td>0.000812</td>\n",
       "      <td>0.000480</td>\n",
       "      <td>0.000224</td>\n",
       "      <td>0.000389</td>\n",
       "      <td>0.000025</td>\n",
       "      <td>0.00165</td>\n",
       "      <td>1</td>\n",
       "    </tr>\n",
       "    <tr>\n",
       "      <th>11342</th>\n",
       "      <td>2021-04-23 17:30:00</td>\n",
       "      <td>1.20826</td>\n",
       "      <td>0.002007</td>\n",
       "      <td>0.002298</td>\n",
       "      <td>0.001783</td>\n",
       "      <td>0.000870</td>\n",
       "      <td>0.001077</td>\n",
       "      <td>0.000745</td>\n",
       "      <td>0.000489</td>\n",
       "      <td>0.000654</td>\n",
       "      <td>0.000290</td>\n",
       "      <td>0.000265</td>\n",
       "      <td>0.00139</td>\n",
       "      <td>1</td>\n",
       "    </tr>\n",
       "    <tr>\n",
       "      <th>11343</th>\n",
       "      <td>2021-04-23 17:40:10</td>\n",
       "      <td>1.20831</td>\n",
       "      <td>0.002539</td>\n",
       "      <td>0.002215</td>\n",
       "      <td>0.001119</td>\n",
       "      <td>0.000870</td>\n",
       "      <td>0.000787</td>\n",
       "      <td>0.000530</td>\n",
       "      <td>0.000696</td>\n",
       "      <td>0.000331</td>\n",
       "      <td>0.000306</td>\n",
       "      <td>0.000041</td>\n",
       "      <td>0.00122</td>\n",
       "      <td>1</td>\n",
       "    </tr>\n",
       "    <tr>\n",
       "      <th>11344</th>\n",
       "      <td>2021-04-23 17:50:00</td>\n",
       "      <td>1.20857</td>\n",
       "      <td>0.003021</td>\n",
       "      <td>0.001948</td>\n",
       "      <td>0.001450</td>\n",
       "      <td>0.001234</td>\n",
       "      <td>0.000745</td>\n",
       "      <td>0.000911</td>\n",
       "      <td>0.000546</td>\n",
       "      <td>0.000522</td>\n",
       "      <td>0.000257</td>\n",
       "      <td>0.000215</td>\n",
       "      <td>0.00081</td>\n",
       "      <td>1</td>\n",
       "    </tr>\n",
       "  </tbody>\n",
       "</table>\n",
       "<p>101 rows × 14 columns</p>\n",
       "</div>"
      ],
      "text/plain": [
       "                     time    close  change_3h  change_2.5h  change_2h  \\\n",
       "11244 2021-04-23 01:10:27  1.20223   0.000574     0.000624   0.000574   \n",
       "11245 2021-04-23 01:20:00  1.20219   0.000508     0.000583   0.000549   \n",
       "11246 2021-04-23 01:30:01  1.20230   0.000724     0.000583   0.000633   \n",
       "11247 2021-04-23 01:40:00  1.20223   0.000624     0.000574   0.000741   \n",
       "11248 2021-04-23 01:50:00  1.20253   0.000866     0.000832   0.000916   \n",
       "...                   ...      ...        ...          ...        ...   \n",
       "11340 2021-04-23 17:10:05  1.20791   0.001808     0.002207   0.001883   \n",
       "11341 2021-04-23 17:20:01  1.20794   0.001634     0.002498   0.001426   \n",
       "11342 2021-04-23 17:30:00  1.20826   0.002007     0.002298   0.001783   \n",
       "11343 2021-04-23 17:40:10  1.20831   0.002539     0.002215   0.001119   \n",
       "11344 2021-04-23 17:50:00  1.20857   0.003021     0.001948   0.001450   \n",
       "\n",
       "       change_1.5h  change_1h  change_50min  change_40min  change_30min  \\\n",
       "11244     0.000741   0.000391      0.000333      0.000383      0.000708   \n",
       "11245     0.000633   0.000300      0.000349      0.000674      0.000125   \n",
       "11246     0.000558   0.000441      0.000766      0.000216      0.000266   \n",
       "11247     0.000391   0.000708      0.000158      0.000208      0.000000   \n",
       "11248     0.000582   0.000408      0.000458      0.000250      0.000283   \n",
       "...            ...        ...           ...           ...           ...   \n",
       "11340     0.000787   0.000538      0.000688      0.000787      0.000456   \n",
       "11341     0.000928   0.000712      0.000812      0.000480      0.000224   \n",
       "11342     0.000870   0.001077      0.000745      0.000489      0.000654   \n",
       "11343     0.000870   0.000787      0.000530      0.000696      0.000331   \n",
       "11344     0.001234   0.000745      0.000911      0.000546      0.000522   \n",
       "\n",
       "       change_20min  change_10min   change  direction_3h  \n",
       "11244      0.000158      0.000208  0.00016             1  \n",
       "11245      0.000175     -0.000033  0.00019             1  \n",
       "11246      0.000058      0.000091  0.00013             1  \n",
       "11247      0.000033     -0.000058  0.00036             1  \n",
       "11248      0.000191      0.000250  0.00013             1  \n",
       "...             ...           ...      ...           ...  \n",
       "11340      0.000199      0.000364  0.00155             1  \n",
       "11341      0.000389      0.000025  0.00165             1  \n",
       "11342      0.000290      0.000265  0.00139             1  \n",
       "11343      0.000306      0.000041  0.00122             1  \n",
       "11344      0.000257      0.000215  0.00081             1  \n",
       "\n",
       "[101 rows x 14 columns]"
      ]
     },
     "execution_count": 39,
     "metadata": {},
     "output_type": "execute_result"
    }
   ],
   "source": [
    "d3"
   ]
  },
  {
   "cell_type": "markdown",
   "id": "5eb8f00c",
   "metadata": {},
   "source": [
    "Теперь применим модель логистической регрессии к полученному DataFrame, обучим ее и выведем метрики."
   ]
  },
  {
   "cell_type": "code",
   "execution_count": 43,
   "id": "3c409b31",
   "metadata": {},
   "outputs": [],
   "source": [
    "X = d3[['change_3h', 'change_2.5h', 'change_2h', 'change_1.5h', 'change_1h', 'change_50min', 'change_40min', 'change_30min', 'change_20min', 'change_10min']]\n",
    "y = d3['direction_3h']\n",
    "\n",
    "split_index = int(0.7 * len(X))\n",
    "X_train = X.iloc[:split_index]\n",
    "y_train = y.iloc[:split_index]\n",
    "X_test = X.iloc[split_index:]\n",
    "y_test = y.iloc[split_index:]\n",
    "\n",
    "scaler = MinMaxScaler()\n",
    "X_train_scaled = scaler.fit_transform(X_train)\n",
    "X_test_scaled = scaler.transform(X_test)"
   ]
  },
  {
   "cell_type": "code",
   "execution_count": 44,
   "id": "95319f30",
   "metadata": {},
   "outputs": [
    {
     "name": "stdout",
     "output_type": "stream",
     "text": [
      "Accuracy: 0.967741935483871\n",
      "Precision: 0.967741935483871\n",
      "Recall: 1.0\n",
      "F1-score: 0.9836065573770492\n"
     ]
    }
   ],
   "source": [
    "lr.fit(X_train_scaled, y_train)\n",
    "\n",
    "# Оценка точности модели\n",
    "accuracy = lr.score(X_test_scaled, y_test)\n",
    "\n",
    "print(f\"Accuracy: {accuracy}\")\n",
    "\n",
    "# Предсказание направления движения цены на тестовом наборе данных\n",
    "y_pred = lr.predict(X_test_scaled)\n",
    "\n",
    "# Расчет метрик\n",
    "precision = precision_score(y_test, y_pred)\n",
    "recall = recall_score(y_test, y_pred)\n",
    "f1 = f1_score(y_test, y_pred)\n",
    "\n",
    "print(f\"Precision: {precision}\")\n",
    "print(f\"Recall: {recall}\")\n",
    "print(f\"F1-score: {f1}\")"
   ]
  },
  {
   "cell_type": "markdown",
   "id": "36cd87fb",
   "metadata": {},
   "source": [
    "Результаты оценки модели на тестовом наборе данных говорят о том, что модель хорошо работает на предсказании направления движения цены и дает высокую точность (Accuracy) в 93,55%.\\\n",
    "\\\n",
    "Также, метрики precision, recall и F1-score показывают, что модель правильно классифицирует большинство объектов (precision), хорошо находит все объекты, принадлежащие классу положительных ответов (recall), и F1-score учитывает и precision и recall, что является показателем сбалансированности модели в распознавании обоих классов."
   ]
  },
  {
   "cell_type": "markdown",
   "id": "a5f9bbac",
   "metadata": {},
   "source": [
    "Теперь рассчитаем прибыль на основе наших прогнозов и фактических изменений цен на тестовом наборе, чтобы сделать более точные выводы."
   ]
  },
  {
   "cell_type": "code",
   "execution_count": 42,
   "id": "c3097a3d",
   "metadata": {},
   "outputs": [
    {
     "name": "stdout",
     "output_type": "stream",
     "text": [
      "Абсолютная прибыль: 4.752000000000001 %\n",
      "Относительная прибыль: 3.9319195412760544 %\n"
     ]
    }
   ],
   "source": [
    "# Расчет прибыли на тестовом наборе данных\n",
    "profit = y_pred * d3.loc[X_test.index].change\n",
    "\n",
    "# Расчет абсолютной прибыли\n",
    "absolute_profit = profit.sum()\n",
    "\n",
    "# Расчет относительной прибыли\n",
    "relative_profit = absolute_profit / d3.loc[X_test.index].close.max()\n",
    "\n",
    "print(f\"Абсолютная прибыль: {absolute_profit * 100} %\")\n",
    "print(f\"Относительная прибыль: {relative_profit * 100} %\")"
   ]
  },
  {
   "cell_type": "markdown",
   "id": "dceb7716",
   "metadata": {},
   "source": [
    "На тестовом наборе данных модель принесла абсолютную прибыль в размере 4.752%. Например, если бы мы вложили 1 доллар, то получили бы 1.0475 доллара. Относительная прибыль показывает, на сколько процентов начальный капитал увеличился или уменьшился после применения алгоритма на тестовом наборе данных. Она составила 3.932%, это означает, что мы заработали 3.932% от максимального значения цены закрытия на тестовом наборе данных. Обе величины показывают, что использование модели принесло нам прибыль. "
   ]
  },
  {
   "cell_type": "markdown",
   "id": "144cd8fa",
   "metadata": {},
   "source": [
    "Но тем не менее, эти выводы сделаны основываясь на показателях всего одного дня, а данные у нас имеются за год."
   ]
  },
  {
   "cell_type": "code",
   "execution_count": 29,
   "id": "3243aa7b",
   "metadata": {},
   "outputs": [
    {
     "data": {
      "text/plain": [
       "Timestamp('2021-01-03 22:10:50')"
      ]
     },
     "execution_count": 29,
     "metadata": {},
     "output_type": "execute_result"
    }
   ],
   "source": [
    "d['datetime'].iloc[1]"
   ]
  },
  {
   "cell_type": "code",
   "execution_count": 30,
   "id": "43762760",
   "metadata": {},
   "outputs": [
    {
     "data": {
      "text/plain": [
       "Timestamp('2021-12-30 23:50:05')"
      ]
     },
     "execution_count": 30,
     "metadata": {},
     "output_type": "execute_result"
    }
   ],
   "source": [
    "d['datetime'].iloc[-1]"
   ]
  },
  {
   "cell_type": "markdown",
   "id": "f94a0edb",
   "metadata": {},
   "source": [
    "Поэтому для более достоверных результатов мы увеличим наш период наблюдения и сделаем его равным двум месяцам.\\\n",
    "Повторим еще раз наш алгоритм, но уже для нового периода."
   ]
  },
  {
   "cell_type": "code",
   "execution_count": 45,
   "id": "a3c9508c",
   "metadata": {
    "scrolled": true
   },
   "outputs": [
    {
     "data": {
      "text/html": [
       "<div>\n",
       "<style scoped>\n",
       "    .dataframe tbody tr th:only-of-type {\n",
       "        vertical-align: middle;\n",
       "    }\n",
       "\n",
       "    .dataframe tbody tr th {\n",
       "        vertical-align: top;\n",
       "    }\n",
       "\n",
       "    .dataframe thead th {\n",
       "        text-align: right;\n",
       "    }\n",
       "</style>\n",
       "<table border=\"1\" class=\"dataframe\">\n",
       "  <thead>\n",
       "    <tr style=\"text-align: right;\">\n",
       "      <th></th>\n",
       "      <th>time</th>\n",
       "      <th>close</th>\n",
       "      <th>change_3h</th>\n",
       "      <th>change_2.5h</th>\n",
       "      <th>change_2h</th>\n",
       "      <th>change_1.5h</th>\n",
       "      <th>change_1h</th>\n",
       "      <th>change_50min</th>\n",
       "      <th>change_40min</th>\n",
       "      <th>change_30min</th>\n",
       "      <th>change_20min</th>\n",
       "      <th>change_10min</th>\n",
       "      <th>change</th>\n",
       "      <th>direction_3h</th>\n",
       "    </tr>\n",
       "  </thead>\n",
       "  <tbody>\n",
       "    <tr>\n",
       "      <th>8952</th>\n",
       "      <td>2021-04-01 03:00:00</td>\n",
       "      <td>1.17269</td>\n",
       "      <td>0.000247</td>\n",
       "      <td>-0.000111</td>\n",
       "      <td>-0.000077</td>\n",
       "      <td>-0.000281</td>\n",
       "      <td>-0.000239</td>\n",
       "      <td>0.000094</td>\n",
       "      <td>0.000392</td>\n",
       "      <td>0.000384</td>\n",
       "      <td>0.000247</td>\n",
       "      <td>0.000222</td>\n",
       "      <td>-0.00110</td>\n",
       "      <td>0</td>\n",
       "    </tr>\n",
       "    <tr>\n",
       "      <th>8953</th>\n",
       "      <td>2021-04-01 03:10:06</td>\n",
       "      <td>1.17268</td>\n",
       "      <td>-0.000009</td>\n",
       "      <td>0.000136</td>\n",
       "      <td>-0.000205</td>\n",
       "      <td>-0.000188</td>\n",
       "      <td>0.000085</td>\n",
       "      <td>0.000384</td>\n",
       "      <td>0.000375</td>\n",
       "      <td>0.000239</td>\n",
       "      <td>0.000213</td>\n",
       "      <td>-0.000009</td>\n",
       "      <td>-0.00079</td>\n",
       "      <td>0</td>\n",
       "    </tr>\n",
       "    <tr>\n",
       "      <th>8954</th>\n",
       "      <td>2021-04-01 03:20:01</td>\n",
       "      <td>1.17262</td>\n",
       "      <td>0.000188</td>\n",
       "      <td>-0.000264</td>\n",
       "      <td>-0.000358</td>\n",
       "      <td>-0.000290</td>\n",
       "      <td>0.000333</td>\n",
       "      <td>0.000324</td>\n",
       "      <td>0.000188</td>\n",
       "      <td>0.000162</td>\n",
       "      <td>-0.000060</td>\n",
       "      <td>-0.000051</td>\n",
       "      <td>-0.00034</td>\n",
       "      <td>0</td>\n",
       "    </tr>\n",
       "    <tr>\n",
       "      <th>8955</th>\n",
       "      <td>2021-04-01 03:30:33</td>\n",
       "      <td>1.17251</td>\n",
       "      <td>-0.000264</td>\n",
       "      <td>-0.000230</td>\n",
       "      <td>-0.000435</td>\n",
       "      <td>-0.000392</td>\n",
       "      <td>0.000230</td>\n",
       "      <td>0.000094</td>\n",
       "      <td>0.000068</td>\n",
       "      <td>-0.000153</td>\n",
       "      <td>-0.000145</td>\n",
       "      <td>-0.000094</td>\n",
       "      <td>-0.00033</td>\n",
       "      <td>0</td>\n",
       "    </tr>\n",
       "    <tr>\n",
       "      <th>8956</th>\n",
       "      <td>2021-04-01 03:40:16</td>\n",
       "      <td>1.17269</td>\n",
       "      <td>0.000145</td>\n",
       "      <td>-0.000196</td>\n",
       "      <td>-0.000179</td>\n",
       "      <td>0.000094</td>\n",
       "      <td>0.000247</td>\n",
       "      <td>0.000222</td>\n",
       "      <td>0.000000</td>\n",
       "      <td>0.000009</td>\n",
       "      <td>0.000060</td>\n",
       "      <td>0.000154</td>\n",
       "      <td>-0.00032</td>\n",
       "      <td>0</td>\n",
       "    </tr>\n",
       "    <tr>\n",
       "      <th>...</th>\n",
       "      <td>...</td>\n",
       "      <td>...</td>\n",
       "      <td>...</td>\n",
       "      <td>...</td>\n",
       "      <td>...</td>\n",
       "      <td>...</td>\n",
       "      <td>...</td>\n",
       "      <td>...</td>\n",
       "      <td>...</td>\n",
       "      <td>...</td>\n",
       "      <td>...</td>\n",
       "      <td>...</td>\n",
       "      <td>...</td>\n",
       "      <td>...</td>\n",
       "    </tr>\n",
       "    <tr>\n",
       "      <th>14958</th>\n",
       "      <td>2021-05-28 20:10:08</td>\n",
       "      <td>1.21916</td>\n",
       "      <td>-0.000828</td>\n",
       "      <td>-0.000942</td>\n",
       "      <td>-0.000467</td>\n",
       "      <td>-0.000361</td>\n",
       "      <td>-0.000287</td>\n",
       "      <td>-0.000328</td>\n",
       "      <td>-0.000295</td>\n",
       "      <td>-0.000221</td>\n",
       "      <td>-0.000082</td>\n",
       "      <td>-0.000074</td>\n",
       "      <td>0.00020</td>\n",
       "      <td>1</td>\n",
       "    </tr>\n",
       "    <tr>\n",
       "      <th>14959</th>\n",
       "      <td>2021-05-28 20:20:01</td>\n",
       "      <td>1.21901</td>\n",
       "      <td>-0.000992</td>\n",
       "      <td>-0.000951</td>\n",
       "      <td>-0.000631</td>\n",
       "      <td>-0.000484</td>\n",
       "      <td>-0.000451</td>\n",
       "      <td>-0.000418</td>\n",
       "      <td>-0.000344</td>\n",
       "      <td>-0.000205</td>\n",
       "      <td>-0.000197</td>\n",
       "      <td>-0.000123</td>\n",
       "      <td>0.00035</td>\n",
       "      <td>1</td>\n",
       "    </tr>\n",
       "    <tr>\n",
       "      <th>14960</th>\n",
       "      <td>2021-05-28 20:30:01</td>\n",
       "      <td>1.21915</td>\n",
       "      <td>-0.000959</td>\n",
       "      <td>-0.000672</td>\n",
       "      <td>-0.000508</td>\n",
       "      <td>-0.000344</td>\n",
       "      <td>-0.000303</td>\n",
       "      <td>-0.000230</td>\n",
       "      <td>-0.000090</td>\n",
       "      <td>-0.000082</td>\n",
       "      <td>-0.000008</td>\n",
       "      <td>0.000115</td>\n",
       "      <td>0.00020</td>\n",
       "      <td>1</td>\n",
       "    </tr>\n",
       "    <tr>\n",
       "      <th>14961</th>\n",
       "      <td>2021-05-28 20:40:00</td>\n",
       "      <td>1.21917</td>\n",
       "      <td>-0.000934</td>\n",
       "      <td>-0.000459</td>\n",
       "      <td>-0.000353</td>\n",
       "      <td>-0.000279</td>\n",
       "      <td>-0.000213</td>\n",
       "      <td>-0.000074</td>\n",
       "      <td>-0.000066</td>\n",
       "      <td>0.000008</td>\n",
       "      <td>0.000131</td>\n",
       "      <td>0.000016</td>\n",
       "      <td>-0.00002</td>\n",
       "      <td>0</td>\n",
       "    </tr>\n",
       "    <tr>\n",
       "      <th>14962</th>\n",
       "      <td>2021-05-28 20:50:00</td>\n",
       "      <td>1.21905</td>\n",
       "      <td>-0.000918</td>\n",
       "      <td>-0.000598</td>\n",
       "      <td>-0.000451</td>\n",
       "      <td>-0.000418</td>\n",
       "      <td>-0.000172</td>\n",
       "      <td>-0.000164</td>\n",
       "      <td>-0.000090</td>\n",
       "      <td>0.000033</td>\n",
       "      <td>-0.000082</td>\n",
       "      <td>-0.000098</td>\n",
       "      <td>-0.00013</td>\n",
       "      <td>0</td>\n",
       "    </tr>\n",
       "  </tbody>\n",
       "</table>\n",
       "<p>6011 rows × 14 columns</p>\n",
       "</div>"
      ],
      "text/plain": [
       "                     time    close  change_3h  change_2.5h  change_2h  \\\n",
       "8952  2021-04-01 03:00:00  1.17269   0.000247    -0.000111  -0.000077   \n",
       "8953  2021-04-01 03:10:06  1.17268  -0.000009     0.000136  -0.000205   \n",
       "8954  2021-04-01 03:20:01  1.17262   0.000188    -0.000264  -0.000358   \n",
       "8955  2021-04-01 03:30:33  1.17251  -0.000264    -0.000230  -0.000435   \n",
       "8956  2021-04-01 03:40:16  1.17269   0.000145    -0.000196  -0.000179   \n",
       "...                   ...      ...        ...          ...        ...   \n",
       "14958 2021-05-28 20:10:08  1.21916  -0.000828    -0.000942  -0.000467   \n",
       "14959 2021-05-28 20:20:01  1.21901  -0.000992    -0.000951  -0.000631   \n",
       "14960 2021-05-28 20:30:01  1.21915  -0.000959    -0.000672  -0.000508   \n",
       "14961 2021-05-28 20:40:00  1.21917  -0.000934    -0.000459  -0.000353   \n",
       "14962 2021-05-28 20:50:00  1.21905  -0.000918    -0.000598  -0.000451   \n",
       "\n",
       "       change_1.5h  change_1h  change_50min  change_40min  change_30min  \\\n",
       "8952     -0.000281  -0.000239      0.000094      0.000392      0.000384   \n",
       "8953     -0.000188   0.000085      0.000384      0.000375      0.000239   \n",
       "8954     -0.000290   0.000333      0.000324      0.000188      0.000162   \n",
       "8955     -0.000392   0.000230      0.000094      0.000068     -0.000153   \n",
       "8956      0.000094   0.000247      0.000222      0.000000      0.000009   \n",
       "...            ...        ...           ...           ...           ...   \n",
       "14958    -0.000361  -0.000287     -0.000328     -0.000295     -0.000221   \n",
       "14959    -0.000484  -0.000451     -0.000418     -0.000344     -0.000205   \n",
       "14960    -0.000344  -0.000303     -0.000230     -0.000090     -0.000082   \n",
       "14961    -0.000279  -0.000213     -0.000074     -0.000066      0.000008   \n",
       "14962    -0.000418  -0.000172     -0.000164     -0.000090      0.000033   \n",
       "\n",
       "       change_20min  change_10min   change  direction_3h  \n",
       "8952       0.000247      0.000222 -0.00110             0  \n",
       "8953       0.000213     -0.000009 -0.00079             0  \n",
       "8954      -0.000060     -0.000051 -0.00034             0  \n",
       "8955      -0.000145     -0.000094 -0.00033             0  \n",
       "8956       0.000060      0.000154 -0.00032             0  \n",
       "...             ...           ...      ...           ...  \n",
       "14958     -0.000082     -0.000074  0.00020             1  \n",
       "14959     -0.000197     -0.000123  0.00035             1  \n",
       "14960     -0.000008      0.000115  0.00020             1  \n",
       "14961      0.000131      0.000016 -0.00002             0  \n",
       "14962     -0.000082     -0.000098 -0.00013             0  \n",
       "\n",
       "[6011 rows x 14 columns]"
      ]
     },
     "execution_count": 45,
     "metadata": {},
     "output_type": "execute_result"
    }
   ],
   "source": [
    "dd = d2.loc[(d2['datetime'] >= '2021-04-01 00:00:00') & (d2['datetime'] <= '2021-05-30 23:59:59')]\n",
    "d3 = pd.DataFrame({'time': dd['datetime'], 'close': dd['close']})\n",
    "\n",
    "# Создание признаков - изменение цены с прошлых свечей\n",
    "d3['change_3h'] = (d3['close'] - d3['close'].shift(18)) / d3['close'].shift(18)\n",
    "d3['change_2.5h'] = (d3['close'] - d3['close'].shift(15)) / d3['close'].shift(15)\n",
    "d3['change_2h'] = (d3['close'] - d3['close'].shift(12)) / d3['close'].shift(12)\n",
    "d3['change_1.5h'] = (d3['close'] - d3['close'].shift(9)) / d3['close'].shift(9)\n",
    "d3['change_1h'] = (d3['close'] - d3['close'].shift(6)) / d3['close'].shift(6)\n",
    "d3['change_50min'] = (d3['close'] - d3['close'].shift(5)) / d3['close'].shift(5)\n",
    "d3['change_40min'] = (d3['close'] - d3['close'].shift(4)) / d3['close'].shift(4)\n",
    "d3['change_30min'] = (d3['close'] - d3['close'].shift(3)) / d3['close'].shift(3)\n",
    "d3['change_20min'] = (d3['close'] - d3['close'].shift(2)) / d3['close'].shift(2)\n",
    "d3['change_10min'] = (d3['close'] - d3['close'].shift(1)) / d3['close'].shift(1)\n",
    "\n",
    "# Добавление столбца с изменением цены через 3 часа\n",
    "d3['change'] = d3['close'].shift(-18) - d3['close']\n",
    "\n",
    "# Определение направления движения цены через 3 часа\n",
    "d3['direction_3h'] = np.where(d3['close'].shift(-18) > d3['close'], 1, 0)\n",
    "d3.dropna(inplace=True)\n",
    "\n",
    "d3"
   ]
  },
  {
   "cell_type": "code",
   "execution_count": 48,
   "id": "a5d59999",
   "metadata": {},
   "outputs": [
    {
     "name": "stdout",
     "output_type": "stream",
     "text": [
      "Accuracy: 0.5432372505543237\n",
      "Precision: 0.5566944266495836\n",
      "Recall: 0.8681318681318682\n",
      "F1-score: 0.6783762685402029\n"
     ]
    }
   ],
   "source": [
    "X = d3[['change_3h', 'change_2.5h', 'change_2h', 'change_1.5h', 'change_1h', 'change_50min', 'change_40min', 'change_30min', 'change_20min', 'change_10min']]\n",
    "y = d3['direction_3h']\n",
    "\n",
    "split_index = int(0.7 * len(X))\n",
    "X_train = X.iloc[:split_index]\n",
    "y_train = y.iloc[:split_index]\n",
    "X_test = X.iloc[split_index:]\n",
    "y_test = y.iloc[split_index:]\n",
    "\n",
    "scaler = MinMaxScaler()\n",
    "X_train_scaled = scaler.fit_transform(X_train)\n",
    "X_test_scaled = scaler.transform(X_test)\n",
    "\n",
    "lr.fit(X_train_scaled, y_train)\n",
    "\n",
    "# Оценка точности модели\n",
    "accuracy = lr.score(X_test_scaled, y_test)\n",
    "\n",
    "print(f\"Accuracy: {accuracy}\")\n",
    "\n",
    "# Предсказание направления движения цены на тестовом наборе данных\n",
    "y_pred = lr.predict(X_test_scaled)\n",
    "\n",
    "# Расчет метрик\n",
    "precision = precision_score(y_test, y_pred)\n",
    "recall = recall_score(y_test, y_pred)\n",
    "f1 = f1_score(y_test, y_pred)\n",
    "\n",
    "print(f\"Precision: {precision}\")\n",
    "print(f\"Recall: {recall}\")\n",
    "print(f\"F1-score: {f1}\")"
   ]
  },
  {
   "cell_type": "code",
   "execution_count": 49,
   "id": "34e7724d",
   "metadata": {},
   "outputs": [
    {
     "name": "stdout",
     "output_type": "stream",
     "text": [
      "Training Accuracy: 0.5298312336581887\n"
     ]
    }
   ],
   "source": [
    "accuracy_train = lr.score(X_train_scaled, y_train)\n",
    "\n",
    "print(f\"Training Accuracy: {accuracy_train}\")"
   ]
  },
  {
   "cell_type": "code",
   "execution_count": 50,
   "id": "f84c4113",
   "metadata": {},
   "outputs": [
    {
     "name": "stdout",
     "output_type": "stream",
     "text": [
      "Training Precision: 0.5375661375661376\n",
      "Training Recall: 0.8983200707338639\n",
      "Training F1-score: 0.6726249586229726\n"
     ]
    }
   ],
   "source": [
    "y_pred_train = lr.predict(X_train_scaled)\n",
    "\n",
    "precision_train = precision_score(y_train, y_pred_train)\n",
    "recall_train = recall_score(y_train, y_pred_train)\n",
    "f1_train = f1_score(y_train, y_pred_train)\n",
    "\n",
    "print(f\"Training Precision: {precision_train}\")\n",
    "print(f\"Training Recall: {recall_train}\")\n",
    "print(f\"Training F1-score: {f1_train}\")"
   ]
  },
  {
   "cell_type": "markdown",
   "id": "4d586c1b",
   "metadata": {},
   "source": [
    "После расчета и вывода показателей качества здесь мы уже можем сказать о том, что новые метрики для более длительного периода оказались хуже, чем были для одного дня. Это говорит о том, что ситуация на рынке нестабильна. И все-таки в данном случае значение F1-score равно 0.704, это означает, что классификатор справляется с балансированием Precision и Recall.\\\n",
    "\\\n",
    "Теперь узнаем, есть ли у нас прибыль за эти два месяца."
   ]
  },
  {
   "cell_type": "code",
   "execution_count": 46,
   "id": "9d15af15",
   "metadata": {},
   "outputs": [
    {
     "name": "stdout",
     "output_type": "stream",
     "text": [
      "Абсолютная прибыль: 30.872000000000142 %\n",
      "Относительная прибыль: 25.182103674701366 %\n"
     ]
    }
   ],
   "source": [
    "# Расчет прибыли на тестовом наборе данных\n",
    "profit = y_pred * d3.loc[X_test.index].change\n",
    "\n",
    "# Расчет абсолютной прибыли\n",
    "absolute_profit = profit.sum()\n",
    "\n",
    "# Расчет относительной прибыли\n",
    "relative_profit = absolute_profit / d3.loc[X_test.index].close.max()\n",
    "\n",
    "print(f\"Абсолютная прибыль: {absolute_profit * 100} %\")\n",
    "print(f\"Относительная прибыль: {relative_profit * 100} %\")"
   ]
  },
  {
   "cell_type": "markdown",
   "id": "5231521e",
   "metadata": {},
   "source": [
    "Таким образом, основываясь на полученных результатах за период в два месяца, мы можем сделать вывод о том, что стратегия торговли на основе предсказаний модели может принести прибыль."
   ]
  },
  {
   "cell_type": "markdown",
   "id": "6f01f81c",
   "metadata": {},
   "source": [
    "Далее, мы можем рассчитать долю положительных и отрицательных сделок за этот же период."
   ]
  },
  {
   "cell_type": "code",
   "execution_count": 53,
   "id": "38f27be1",
   "metadata": {},
   "outputs": [
    {
     "name": "stdout",
     "output_type": "stream",
     "text": [
      "Доля положительных сделок: 0.58\n",
      "Доля отрицательных сделок: 0.42\n"
     ]
    }
   ],
   "source": [
    "# Расчет количества положительных и отрицательных сделок\n",
    "positive_trades = (y_test == 1).sum()\n",
    "negative_trades = (y_test == 0).sum()\n",
    "\n",
    "# Расчет доли положительных и отрицательных сделок\n",
    "positive_share = positive_trades / len(y_test)\n",
    "negative_share = negative_trades / len(y_test)\n",
    "\n",
    "print(f\"Доля положительных сделок: {positive_share:.2f}\")\n",
    "print(f\"Доля отрицательных сделок: {negative_share:.2f}\")"
   ]
  },
  {
   "cell_type": "markdown",
   "id": "96d2cad6",
   "metadata": {},
   "source": [
    "Из этого можно сделать вывод, что большинство сделок в данном периоде были положительными, то есть завершились с прибылью. "
   ]
  },
  {
   "cell_type": "markdown",
   "id": "92c2195e",
   "metadata": {},
   "source": [
    "Для визуальной оценки построим ROC-кривую для тренировочного и тестового наборов данных."
   ]
  },
  {
   "cell_type": "code",
   "execution_count": 60,
   "id": "3b2f7064",
   "metadata": {},
   "outputs": [
    {
     "data": {
      "image/png": "[encoded data removed]",
      "text/plain": [
       "<Figure size 640x480 with 1 Axes>"
      ]
     },
     "metadata": {},
     "output_type": "display_data"
    }
   ],
   "source": [
    "# Вычисление вероятностей принадлежности к положительному классу\n",
    "y_train_prob = lr.predict_proba(X_train_scaled)[:, 1]\n",
    "\n",
    "# Вычисление FPR и TPR\n",
    "fpr_train, tpr_train, thresholds_train = roc_curve(y_train, y_train_prob)\n",
    "\n",
    "# Вычисление площади под ROC-кривой (AUC)\n",
    "auc_train = roc_auc_score(y_train, y_train_prob)\n",
    "\n",
    "# Построение ROC-кривой\n",
    "plt.plot(fpr_train, tpr_train, label=f\"AUC = {auc_train:.2f}\")\n",
    "plt.plot([0, 1], [0, 1], 'k--')\n",
    "plt.xlabel('False Positive Rate')\n",
    "plt.ylabel('True Positive Rate')\n",
    "plt.title('ROC Curve on Train Data')\n",
    "plt.legend()\n",
    "plt.show()"
   ]
  },
  {
   "cell_type": "markdown",
   "id": "560e6d8c",
   "metadata": {},
   "source": [
    "Эта кривая может дать представление о том, насколько хорошо модель поддалась обучению на наборе данных."
   ]
  },
  {
   "cell_type": "code",
   "execution_count": 61,
   "id": "45fd41af",
   "metadata": {},
   "outputs": [
    {
     "data": {
      "image/png": "[encoded data removed]",
      "text/plain": [
       "<Figure size 640x480 with 1 Axes>"
      ]
     },
     "metadata": {},
     "output_type": "display_data"
    }
   ],
   "source": [
    "# Вычисление вероятностей принадлежности к положительному классу\n",
    "y_prob = lr.predict_proba(X_test_scaled)[:, 1]\n",
    "\n",
    "# Вычисление FPR и TPR\n",
    "fpr, tpr, thresholds = roc_curve(y_test, y_prob)\n",
    "\n",
    "# Вычисление площади под ROC-кривой (AUC)\n",
    "auc = roc_auc_score(y_test, y_prob)\n",
    "\n",
    "# Построение ROC-кривой\n",
    "plt.plot(fpr, tpr, label=f\"AUC = {auc:.2f}\")\n",
    "plt.plot([0, 1], [0, 1], 'k--')\n",
    "plt.xlabel('False Positive Rate')\n",
    "plt.ylabel('True Positive Rate')\n",
    "plt.title('ROC Curve')\n",
    "plt.legend()\n",
    "plt.show()"
   ]
  },
  {
   "cell_type": "markdown",
   "id": "a10f8afe",
   "metadata": {},
   "source": [
    "На обучающей выборке мы видим довольно высокое значение AUC, но вот на\\\n",
    "тестовом наборе данных наша модель ведет себя почти так же, как и случайный выбор."
   ]
  },
  {
   "cell_type": "markdown",
   "id": "e7e480ac",
   "metadata": {},
   "source": [
    "## Вывод"
   ]
  },
  {
   "cell_type": "markdown",
   "id": "133c98b2",
   "metadata": {},
   "source": [
    "При выполнении работы я построила несколько моделей машинного обучения для анализа валютного датасета с высокой частотой дискретизации, которые выполняли разные функции в разных режимах: режим торгов, режим предсказания, режим классификации.\n",
    "Сравнивая эти модели, я могу сказать, что модель логистической регрессии показала наиболее удовлетворительные результаты работы на нашем наборе данных, нежели остальные модели."
   ]
  },
  {
   "cell_type": "markdown",
   "id": "58593114",
   "metadata": {},
   "source": [
    "Модель логистической регрессии, которая получает на вход предыдущие значения цены и объема торгов, имеет достаточно высокие показатели качества, но если применить эту модель для набора данных, который создаёт условия торгов на фондовом рынке, значения метрик сильно падают."
   ]
  },
  {
   "cell_type": "markdown",
   "id": "e811963b",
   "metadata": {},
   "source": [
    "Точность такой модели составляет примерно 55%, что является неэффективным. Таким образом, все модели машинного обучения для предсказания цены или ее направления на фондовом рынке сильно переобучаются, построение ROC-кривой для модели логистической регрессии подтверждает мои рассуждения. На тестовых данных кривая имеет AUC, почти совпадающий с AUC при случайном выборе. В конечном итоге, построенные модели не применимы на практике."
   ]
  },
  {
   "cell_type": "code",
   "execution_count": null,
   "id": "dcf13e9b",
   "metadata": {},
   "outputs": [],
   "source": []
  }
 ],
 "metadata": {
  "kernelspec": {
   "display_name": "Python 3 (ipykernel)",
   "language": "python",
   "name": "python3"
  },
  "language_info": {
   "codemirror_mode": {
    "name": "ipython",
    "version": 3
   },
   "file_extension": ".py",
   "mimetype": "text/x-python",
   "name": "python",
   "nbconvert_exporter": "python",
   "pygments_lexer": "ipython3",
   "version": "3.9.13"
  }
 },
 "nbformat": 4,
 "nbformat_minor": 5
}
